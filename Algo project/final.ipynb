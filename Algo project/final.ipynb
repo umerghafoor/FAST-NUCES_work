{
 "cells": [
  {
   "cell_type": "markdown",
   "metadata": {},
   "source": [
    "## Part 1\n",
    "### 1. Problem 1\n",
    "Each type of structure should consist of 2 or more stages. Each stage consists of a natural number of blocks. No two stages are allowed to be at the same height. Each stage must be lower in height than the previous one. All stages must\n",
    "contain at least one block. The height of a stage is defined by the number of blocks that make up that stage."
   ]
  },
  {
   "cell_type": "markdown",
   "metadata": {},
   "source": [
    "```\n",
    "    count_valid_structures(num_blocks):                                           \n",
    "        dp[um_blocks + 1] = 0                                                     \n",
    "        dp[0] = 1                                                                 \n",
    "        for i = 1 to num_blocks:                                                  \n",
    "            for j = num_blocks down to i, decrementing by 1:                      \n",
    "                dp[j] += dp[j - i]                                                \n",
    "        return dp[num_blocks] -1                                                  \n",
    "```"
   ]
  },
  {
   "cell_type": "code",
   "execution_count": 24,
   "metadata": {},
   "outputs": [],
   "source": [
    "def count_valid_structures(num_blocks):\n",
    "    dp = [0] * (num_blocks + 1)\n",
    "    dp[0] = 1\n",
    "\n",
    "    for i in range(1, num_blocks + 1):\n",
    "        for j in range(num_blocks, i - 1, -1):\n",
    "            dp[j] += dp[j - i]\n",
    "            print(dp)\n",
    "        print(' ')\n",
    "\n",
    "    return dp[num_blocks] - 1"
   ]
  },
  {
   "cell_type": "markdown",
   "metadata": {},
   "source": [
    "Certainly, let's divide the main loop into initialization and nested loops for more detailed time complexity analysis in LaTeX:\n",
    "\n",
    "\\[\n",
    "\\begin{align*}\n",
    "\\text{Initialization:} & \\quad O(1) \\\\\n",
    "\\text{Outer Loop:} & \\quad O(n) \\\\\n",
    "\\text{Inner Loop:} & \\quad O(n/2) \\\\\n",
    "\\text{Total Loop Time:} & \\quad O(n \\times n/2) = O(n^2/2) \\\\\n",
    "\\text{Return Statement:} & \\quad O(1)\n",
    "\\end{align*}\n",
    "\\]\n",
    "\n",
    "Therefore, the overall time complexity of the algorithm\n",
    "\\\n",
    "\\[\n",
    "\\begin{align*}\n",
    "\\text{Total Loop Time:} & \\quad O(n \\times n) = O(n^2) \\\\\n",
    "\\end{align*}\n",
    "\\]"
   ]
  },
  {
   "cell_type": "code",
   "execution_count": 25,
   "metadata": {},
   "outputs": [
    {
     "name": "stdout",
     "output_type": "stream",
     "text": [
      "[1, 0, 0, 0, 0, 0]\n",
      "[1, 0, 0, 0, 0, 0]\n",
      "[1, 0, 0, 0, 0, 0]\n",
      "[1, 0, 0, 0, 0, 0]\n",
      "[1, 1, 0, 0, 0, 0]\n",
      " \n",
      "[1, 1, 0, 0, 0, 0]\n",
      "[1, 1, 0, 0, 0, 0]\n",
      "[1, 1, 0, 1, 0, 0]\n",
      "[1, 1, 1, 1, 0, 0]\n",
      " \n",
      "[1, 1, 1, 1, 0, 1]\n",
      "[1, 1, 1, 1, 1, 1]\n",
      "[1, 1, 1, 2, 1, 1]\n",
      " \n",
      "[1, 1, 1, 2, 1, 2]\n",
      "[1, 1, 1, 2, 2, 2]\n",
      " \n",
      "[1, 1, 1, 2, 2, 3]\n",
      " \n",
      "Total combinations: 2\n"
     ]
    }
   ],
   "source": [
    "total = count_valid_structures(5)\n",
    "print(\"Total combinations:\", total)"
   ]
  },
  {
   "cell_type": "markdown",
   "metadata": {},
   "source": [
    "### 2. Problem \n",
    "Description Abdullah is a freedom fighter, fighting against the occupant forces. As a part of his fighting strategy, his primary target is the destruction of railroads.\n",
    "\n",
    "In this problem, the task is to assist Abdullah to make best use of his limited resources. He has some information available from intelligence wing of his organization. First, the rail line is completely linear which means that there are no branches, no spurs. Next, the Intelligence wing has assigned a Strategic Importance to each depot which is an integer from 1 to 5. Moreover, a depot is of no use on its own, it only has value if it is connected to other depots. The Strategic Value of the entire railroad is calculated by adding up the products of the Strategic Values for every pair of depots that are connected, directly or indirectly, by the rail line. Consider the following railroad:\n",
    "\n",
    "The strategic value of above railroad is computed as: 4*5 + 4*1 + 4*2 + 5*1 + 5*2 + 1*2 = 49. Now, suppose that Abdullah only has enough resources for one attack. He cannot attack the depots themselves because they are too well defended. He must attack the rail line between depots, in the middle of the desert. Consider what would happen if Abdullah attacked this rail line right in the middle:\n",
    "\n",
    "The Strategic Value of the remaining railroad is 4*5 + 1*2 = 22. But, suppose Abdullah attacks between the 4 and 5 depots:\n",
    "The Strategic Value of the remaining railroad is 5*1 + 5*2 + 1*2 = 17. This is the Abdullah's best option. Given a description of a railroad and the number of attacks that Abdullah can perform, figure out the smallest Strategic\n",
    "Value that he can achieve for that railroad."
   ]
  },
  {
   "cell_type": "code",
   "execution_count": 17,
   "metadata": {},
   "outputs": [],
   "source": [
    "def calc_optimal_position(strategic_values, num_attacks):\n",
    "    size = len(strategic_values)\n",
    "    num_attacks = num_attacks \n",
    "    # Initialize a 2D array to store intermediate results\n",
    "    dp = [[float('inf')] * (num_attacks + 2) for _ in range(size + 1)]\n",
    "    dp[0][0] = 0\n",
    "\n",
    "\n",
    "    for i in range(1, size + 1): # run N times\n",
    "        for k in range(i): #run N times\n",
    "            for j in range(1, min(i, num_attacks + 1) + 1):# run M times\n",
    "                if(dp[k][j - 1]>=float('inf')):\n",
    "                    continue\n",
    "                # Calculate cost of current attack\n",
    "                local_cost = 0\n",
    "                for m in range(k, i):\n",
    "                    for n in range(m + 1, i):\n",
    "                        local_cost += strategic_values[m] * strategic_values[n]\n",
    "                # Update dp array with minimum cost\n",
    "                dp[i][j] = min(dp[i][j], dp[k][j - 1] + local_cost)\n",
    "\n",
    "    return dp[size][num_attacks + 1]\n"
   ]
  },
  {
   "cell_type": "code",
   "execution_count": 23,
   "metadata": {},
   "outputs": [
    {
     "name": "stdout",
     "output_type": "stream",
     "text": [
      "Minimum strategic value: 1270\n"
     ]
    }
   ],
   "source": [
    "\n",
    "strategic_values = [3,4,2,5,1,4,3,2,5,1,4,3,2,5,1,4,3,2,5,1,4,3,2,5,1,4,3,2,5,1,4,3,2,5,1,4,3,2,5,1,4,3,2,5,1,4,3,2,5,1,4,3,2,5,1,4,3,2,5,1,4,3,2,5,1,4,3,2,5,1,4,3,2,5,1,4,3,2,5,1,4,3,2,5,1,4,3,2,5,1,4,3]\n",
    "num_attacks = 21\n",
    "print(\"Minimum strategic value:\", calc_optimal_position(strategic_values, num_attacks))"
   ]
  },
  {
   "cell_type": "code",
   "execution_count": 22,
   "metadata": {},
   "outputs": [
    {
     "ename": "SyntaxError",
     "evalue": "unterminated string literal (detected at line 2) (4284102374.py, line 2)",
     "output_type": "error",
     "traceback": [
      "\u001b[1;36m  Cell \u001b[1;32mIn[22], line 2\u001b[1;36m\u001b[0m\n\u001b[1;33m    str.replace(' ','',')\u001b[0m\n\u001b[1;37m                       ^\u001b[0m\n\u001b[1;31mSyntaxError\u001b[0m\u001b[1;31m:\u001b[0m unterminated string literal (detected at line 2)\n"
     ]
    }
   ],
   "source": [
    "str  = \"3,4,2,5,1 4 3 2 5 1 4 3 2 5 1 4 3 2 5 1 4 3 2 5 1 4 3 2 5 1 4 3 2 5 1 4 3 2 5 1 4 3 2 5 1 4 3 2 5 1 4 3 2 5 1 4 3 2 5 1 4 3 2 5 1 4 3 2 5 1 4 3 2 5 1 4 3 2 5 1 4 3 2 5 1 4 3 2 5 1 4 3\"\n",
    "str."
   ]
  }
 ],
 "metadata": {
  "kernelspec": {
   "display_name": "Python 3 (ipykernel)",
   "language": "python",
   "name": "python3"
  },
  "language_info": {
   "codemirror_mode": {
    "name": "ipython",
    "version": 3
   },
   "file_extension": ".py",
   "mimetype": "text/x-python",
   "name": "python",
   "nbconvert_exporter": "python",
   "pygments_lexer": "ipython3",
   "version": "3.12.2"
  }
 },
 "nbformat": 4,
 "nbformat_minor": 4
}
