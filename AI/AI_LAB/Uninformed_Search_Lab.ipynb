{
 "cells": [
  {
   "cell_type": "markdown",
   "metadata": {},
   "source": [
    "BFS Function to traverse a Maze"
   ]
  },
  {
   "cell_type": "code",
   "execution_count": 159,
   "metadata": {},
   "outputs": [],
   "source": [
    "from collections import deque\n",
    "import copy\n",
    "\n",
    "def bfs_maze(maze):\n",
    "    # Get the dimensions of the maze\n",
    "    n, m = len(maze), len(maze[0])\n",
    "    # path = copy.deepcopy(maze)\n",
    "    \n",
    "    # Directions for movement (right, left, down, up)\n",
    "    directions = [(0, 1), (0, -1), (1, 0), (-1, 0)]\n",
    "    \n",
    "    # Queue to store the cells to explore, starting with the start cell\n",
    "    frontier = deque([(0, 0, [(0,0)])])  # (row, col, distance)\n",
    "    \n",
    "    # Visited matrix to keep track of visited nodes\n",
    "    visited = [[False for _ in range(m)] for _ in range(n)]\n",
    "    \n",
    "    # Check if start or goal is blocked\n",
    "    if maze[0][0] == 1 or maze[n-1][m-1] == 1:\n",
    "        return -1\n",
    "    \n",
    "    # Mark the start cell as visited\n",
    "    visited[0][0] = True\n",
    "    \n",
    "    # Perform BFS\n",
    "    while frontier:\n",
    "        row, col, dist = frontier.popleft()\n",
    "        \n",
    "        # If we've reached the goal, return the distance\n",
    "        if row == n-1 and col == m-1:\n",
    "            # print(path)\n",
    "            # for i in path:\n",
    "            #     print(i)\n",
    "            # print(dist)\n",
    "            return len(dist),dist\n",
    "        \n",
    "        # Explore all four possible directions\n",
    "        for dr, dc in directions:\n",
    "            new_row, new_col = row + dr, col + dc\n",
    "            \n",
    "            # Check if the new position is within bounds and not blocked or visited\n",
    "            if 0 <= new_row < n and 0 <= new_col < m and not visited[new_row][new_col] and maze[new_row][new_col] == 0:\n",
    "                # Mark the cell as visited\n",
    "                visited[new_row][new_col] = True\n",
    "                # path[new_row][new_col] = 8\n",
    "\n",
    "                # Add the new position to the frontier with incremented distance\n",
    "                frontier.append((new_row, new_col, dist + [(new_col,new_row)]))\n",
    "                # print(frontier)\n",
    "    \n",
    "    # If the goal was not reached, return -1\n",
    "    return -1\n",
    "\n",
    "# Example usage\n"
   ]
  },
  {
   "cell_type": "code",
   "execution_count": 160,
   "metadata": {},
   "outputs": [
    {
     "name": "stdout",
     "output_type": "stream",
     "text": [
      "[(0, 0), (0, 1), (0, 2), (1, 2), (2, 2), (2, 3), (2, 4), (3, 4), (4, 4)]\n",
      "(9, [(0, 0), (0, 1), (0, 2), (1, 2), (2, 2), (2, 3), (2, 4), (3, 4), (4, 4)])\n"
     ]
    }
   ],
   "source": [
    "maze = [\n",
    "    [0, 1, 0, 0, 0],\n",
    "    [0, 1, 0, 1, 0],\n",
    "    [0, 0, 0, 1, 0],\n",
    "    [1, 1, 0, 1, 0],\n",
    "    [0, 0, 0, 0, 0]\n",
    "]\n",
    "\n",
    "print(bfs_maze(maze))  # Output: 9"
   ]
  },
  {
   "cell_type": "markdown",
   "metadata": {},
   "source": [
    "**Lab Task**\n",
    "\n",
    "An agent is standing ready at the top-left corner of a grid (maze) and must reach the bottom-right corner (the goal). The grid contains obstacles, represented by '1s', that the agent cannot pass through. Open spaces are represented by '0s'. The agent can move up, down, left, or right but cannot move diagonally. You have been given 3 mazes and need to implement two algorithms, DFS and IDDFS to find the shortest path to the goal (BFS has already been shown). If the agent reaches the goal, return the number of steps taken. If the goal is unreachable, return -1. Afterwards you need to run each algorithm on the three mazes and compare the results of each\n",
    "\n"
   ]
  },
  {
   "cell_type": "markdown",
   "metadata": {},
   "source": [
    "Q1: DFS Function"
   ]
  },
  {
   "cell_type": "code",
   "execution_count": 161,
   "metadata": {},
   "outputs": [],
   "source": [
    "\n",
    "def dfs_agent_maze(maze):\n",
    "    # Get the dimensions of the maze\n",
    "    n, m = len(maze), len(maze[0])\n",
    "    # path = copy.deepcopy(maze)\n",
    "    \n",
    "    # Directions for movement (right, left, down, up)\n",
    "    directions = [(0, 1), (0, -1), (1, 0), (-1, 0)]\n",
    "    \n",
    "    # Queue to store the cells to explore, starting with the start cell\n",
    "    frontier = deque([(0, 0, [(0,0)])])  # (row, col, distance)\n",
    "    \n",
    "    # Visited matrix to keep track of visited nodes\n",
    "    visited = [[False for _ in range(m)] for _ in range(n)]\n",
    "    \n",
    "    # Check if start or goal is blocked\n",
    "    if maze[0][0] == 1 or maze[n-1][m-1] == 1:\n",
    "        return -1\n",
    "    \n",
    "    # Mark the start cell as visited\n",
    "    visited[0][0] = True\n",
    "    \n",
    "    # Perform DFS\n",
    "    while frontier:\n",
    "        row, col, dist = frontier.pop()\n",
    "        \n",
    "        # If we've reached the goal, return the distance\n",
    "        if row == n-1 and col == m-1:\n",
    "            # print(path)\n",
    "            # for i in path:\n",
    "            #     print(i)\n",
    "            # print(dist)\n",
    "            return len(dist),dist\n",
    "        \n",
    "        # Explore all four possible directions\n",
    "        for dr, dc in directions:\n",
    "            new_row, new_col = row + dr, col + dc\n",
    "            \n",
    "            # Check if the new position is within bounds and not blocked or visited\n",
    "            if 0 <= new_row < n and 0 <= new_col < m and not visited[new_row][new_col] and maze[new_row][new_col] == 0:\n",
    "                # Mark the cell as visited\n",
    "                visited[new_row][new_col] = True\n",
    "                # path[new_row][new_col] = 8\n",
    "\n",
    "                # Add the new position to the frontier with incremented distance\n",
    "                frontier.append((new_row, new_col, dist + [(new_col,new_row)]))\n",
    "                # print(frontier)\n",
    "    \n",
    "    # If the goal was not reached, return -1\n",
    "    return -1\n",
    "\n",
    "# Example usage\n"
   ]
  },
  {
   "cell_type": "code",
   "execution_count": 162,
   "metadata": {},
   "outputs": [
    {
     "name": "stdout",
     "output_type": "stream",
     "text": [
      "(13, [(0, 0), (0, 1), (0, 2), (1, 2), (2, 2), (2, 1), (2, 0), (3, 0), (4, 0), (4, 1), (4, 2), (4, 3), (4, 4)])\n"
     ]
    }
   ],
   "source": [
    "print(dfs_agent_maze(maze))"
   ]
  },
  {
   "cell_type": "markdown",
   "metadata": {},
   "source": [
    "Q2: IDDFS function"
   ]
  },
  {
   "cell_type": "code",
   "execution_count": 176,
   "metadata": {},
   "outputs": [],
   "source": [
    "def iddfs_agent_maze(maze):\n",
    "    # Get the dimensions of the maze\n",
    "    n, m = len(maze), len(maze[0])\n",
    "    path = copy.deepcopy(maze)\n",
    "    \n",
    "    # Directions for movement (right, left, down, up)\n",
    "    directions = [(0, 1), (0, -1), (1, 0), (-1, 0)]\n",
    "    \n",
    "    # Queue to store the cells to explore, starting with the start cell\n",
    "    frontier = deque([(0, 0, [(0,0)])])  # (row, col, distance)\n",
    "    \n",
    "    # Visited matrix to keep track of visited nodes\n",
    "    visited = [[False for _ in range(m)] for _ in range(n)]\n",
    "    \n",
    "    # Check if start or goal is blocked\n",
    "    if maze[0][0] == 1 or maze[n-1][m-1] == 1:\n",
    "        return -1\n",
    "    \n",
    "    # Mark the start cell as visited\n",
    "    visited[0][0] = True\n",
    "    \n",
    "    COUNTER = 3\n",
    "    count = 0\n",
    "    index = 0\n",
    "    check = 0\n",
    "    \n",
    "    # Perform DFS\n",
    "    while frontier:\n",
    "        # if count > 0:\n",
    "        #     row, col, dist = frontier.pop()\n",
    "        #     count -= 1\n",
    "        #     # print(\"debth\")\n",
    "        # else:\n",
    "        #     row, col, dist = frontier.popleft()\n",
    "        #     index += 1\n",
    "        #     count = COUNTER * index\n",
    "        #     # print(\"breath\")\n",
    "\n",
    "        if count == 0 and check==0:\n",
    "            row, col, dist = frontier.pop()\n",
    "            index +=1\n",
    "            count = COUNTER*index\n",
    "            check = 1\n",
    "        else:\n",
    "            row, col, dist = frontier.popleft()\n",
    "            count = 3\n",
    "            check = 0\n",
    "\n",
    "        \n",
    "        # If we've reached the goal, return the distance\n",
    "        if row == n-1 and col == m-1:\n",
    "            # for i in path:\n",
    "            #     print(i)\n",
    "            return len(dist),dist\n",
    "        \n",
    "        # Explore all four possible directions\n",
    "        for dr, dc in directions:\n",
    "            new_row, new_col = row + dr, col + dc\n",
    "            \n",
    "            # Check if the new position is within bounds and not blocked or visited\n",
    "            if 0 <= new_row < n and 0 <= new_col < m and not visited[new_row][new_col] and maze[new_row][new_col] == 0:\n",
    "                # Mark the cell as visited\n",
    "                visited[new_row][new_col] = True\n",
    "                # Add the new position to the frontier with incremented distance\n",
    "                frontier.append((new_row, new_col, dist + [(new_col, new_row)]))\n",
    "                path[new_row][new_col] = 8\n",
    "                # print(frontier)\n",
    "    \n",
    "    return -1"
   ]
  },
  {
   "cell_type": "markdown",
   "metadata": {},
   "source": [
    "Running all the algos and comparing them. Feel free to edit the print statements to improve readability"
   ]
  },
  {
   "cell_type": "code",
   "execution_count": 177,
   "metadata": {},
   "outputs": [
    {
     "name": "stdout",
     "output_type": "stream",
     "text": [
      "MAZE 1 --------------------\n",
      "[(0, 0), (0, 1), (0, 2), (1, 2), (2, 2), (2, 3), (2, 4), (3, 4), (4, 4)]\n",
      "(9, [(0, 0), (0, 1), (0, 2), (1, 2), (2, 2), (2, 3), (2, 4), (3, 4), (4, 4)])\n",
      "(13, [(0, 0), (0, 1), (0, 2), (1, 2), (2, 2), (2, 1), (2, 0), (3, 0), (4, 0), (4, 1), (4, 2), (4, 3), (4, 4)])\n",
      "(9, [(0, 0), (0, 1), (0, 2), (1, 2), (2, 2), (2, 3), (2, 4), (3, 4), (4, 4)])\n",
      "MAZE 2 --------------------\n",
      "[(0, 0), (1, 0), (2, 0), (3, 0), (4, 0), (4, 1), (4, 2), (4, 3), (4, 4)]\n",
      "(9, [(0, 0), (1, 0), (2, 0), (3, 0), (4, 0), (4, 1), (4, 2), (4, 3), (4, 4)])\n",
      "(11, [(0, 0), (0, 1), (0, 2), (0, 3), (0, 4), (1, 4), (2, 4), (2, 3), (3, 3), (4, 3), (4, 4)])\n",
      "(9, [(0, 0), (1, 0), (2, 0), (3, 0), (4, 0), (4, 1), (4, 2), (4, 3), (4, 4)])\n",
      "MAZE 3 --------------------\n",
      "[(0, 0), (1, 0), (1, 1), (1, 2), (2, 2), (2, 3), (2, 4), (3, 4), (4, 4), (5, 4), (5, 5)]\n",
      "(11, [(0, 0), (1, 0), (1, 1), (1, 2), (2, 2), (2, 3), (2, 4), (3, 4), (4, 4), (5, 4), (5, 5)])\n",
      "(11, [(0, 0), (1, 0), (1, 1), (1, 2), (2, 2), (2, 3), (2, 4), (3, 4), (4, 4), (5, 4), (5, 5)])\n",
      "(11, [(0, 0), (1, 0), (1, 1), (1, 2), (2, 2), (2, 3), (2, 4), (3, 4), (4, 4), (5, 4), (5, 5)])\n"
     ]
    }
   ],
   "source": [
    "maze1 = [\n",
    "    [0, 1, 0, 0, 0],\n",
    "    [0, 1, 0, 1, 0],\n",
    "    [0, 0, 0, 1, 0],\n",
    "    [1, 1, 0, 1, 0],\n",
    "    [0, 0, 0, 0, 0]\n",
    "]\n",
    "maze2 = [\n",
    "    [0, 0, 0, 0, 0],\n",
    "    [0, 1, 1, 1, 0],\n",
    "    [0, 1, 0, 1, 0],\n",
    "    [0, 1, 0, 0, 0],\n",
    "    [0, 0, 0, 1, 0]\n",
    "]\n",
    "maze3 = [\n",
    "    [0, 0, 1, 0, 0, 0],\n",
    "    [1, 0, 1, 0, 1, 0],\n",
    "    [1, 0, 0, 0, 1, 0],\n",
    "    [1, 1, 0, 1, 0, 0],\n",
    "    [0, 0, 0, 0, 0, 0],\n",
    "    [0, 1, 1, 1, 1, 0]\n",
    "]\n",
    "\n",
    "print('MAZE 1 --------------------')\n",
    "print(bfs_maze(maze1))  #BFS\n",
    "print(dfs_agent_maze(maze1)) #DFS\n",
    "print(iddfs_agent_maze(maze1)) #IDDFS\n",
    "print('MAZE 2 --------------------')\n",
    "print(bfs_maze(maze2)) # BFS\n",
    "print(dfs_agent_maze(maze2)) #DFS\n",
    "print(iddfs_agent_maze(maze2)) #IDDFS\n",
    "print('MAZE 3 --------------------')\n",
    "print(bfs_maze(maze3)) #BFS\n",
    "print(dfs_agent_maze(maze3))#DFS\n",
    "print(iddfs_agent_maze(maze3))#IDDFS\n"
   ]
  },
  {
   "cell_type": "markdown",
   "metadata": {},
   "source": [
    "### BFS\n",
    "good at finding target in shallow target\n",
    "### DFS\n",
    "good at finding target in Deep target\n",
    "### IDFS\n",
    "good at finding target in both shallow and Deep target"
   ]
  },
  {
   "cell_type": "code",
   "execution_count": 178,
   "metadata": {},
   "outputs": [
    {
     "name": "stdout",
     "output_type": "stream",
     "text": [
      "MAZE 30 x 30 --------------------\n",
      "[(0, 0), (1, 0), (1, 1), (1, 2), (2, 2), (2, 3), (2, 4), (3, 4), (4, 4), (4, 5), (4, 6), (5, 6), (5, 7), (5, 8), (6, 8), (7, 8), (7, 9), (8, 9), (9, 9), (10, 9), (10, 10), (10, 11), (10, 12), (9, 12), (9, 13), (8, 13), (8, 14), (8, 15), (9, 15), (9, 16), (10, 16), (10, 17), (11, 17), (11, 18), (12, 18), (13, 18), (14, 18), (15, 18), (16, 18), (17, 18), (18, 18), (18, 17), (19, 17), (20, 17), (21, 17), (22, 17), (22, 18), (23, 18), (23, 19), (24, 19), (24, 20), (24, 21), (24, 22), (24, 23), (25, 23), (26, 23), (27, 23), (28, 23), (28, 24), (28, 25), (29, 25), (29, 26), (29, 27), (29, 28)]\n",
      "(64, [(0, 0), (1, 0), (1, 1), (1, 2), (2, 2), (2, 3), (2, 4), (3, 4), (4, 4), (4, 5), (4, 6), (5, 6), (5, 7), (5, 8), (6, 8), (7, 8), (7, 9), (8, 9), (9, 9), (10, 9), (10, 10), (10, 11), (10, 12), (9, 12), (9, 13), (8, 13), (8, 14), (8, 15), (9, 15), (9, 16), (10, 16), (10, 17), (11, 17), (11, 18), (12, 18), (13, 18), (14, 18), (15, 18), (16, 18), (17, 18), (18, 18), (18, 17), (19, 17), (20, 17), (21, 17), (22, 17), (22, 18), (23, 18), (23, 19), (24, 19), (24, 20), (24, 21), (24, 22), (24, 23), (25, 23), (26, 23), (27, 23), (28, 23), (28, 24), (28, 25), (29, 25), (29, 26), (29, 27), (29, 28)])\n",
      "(76, [(0, 0), (1, 0), (1, 1), (1, 2), (2, 2), (2, 3), (2, 4), (1, 4), (0, 4), (0, 5), (0, 6), (1, 6), (2, 6), (2, 7), (2, 8), (2, 9), (2, 10), (3, 10), (3, 11), (3, 12), (3, 13), (4, 13), (4, 14), (4, 15), (3, 15), (2, 15), (2, 16), (2, 17), (2, 18), (3, 18), (4, 18), (5, 18), (5, 17), (5, 16), (6, 16), (7, 16), (7, 15), (8, 15), (9, 15), (9, 16), (10, 16), (10, 17), (11, 17), (11, 18), (12, 18), (13, 18), (14, 18), (14, 17), (15, 17), (16, 17), (16, 18), (17, 18), (18, 18), (18, 17), (19, 17), (20, 17), (21, 17), (22, 17), (22, 18), (23, 18), (23, 19), (24, 19), (24, 20), (24, 21), (24, 22), (24, 23), (25, 23), (26, 23), (27, 23), (27, 24), (28, 24), (28, 25), (29, 25), (29, 26), (29, 27), (29, 28)])\n",
      "(64, [(0, 0), (1, 0), (1, 1), (1, 2), (2, 2), (2, 3), (2, 4), (3, 4), (4, 4), (4, 5), (4, 6), (5, 6), (5, 7), (5, 8), (6, 8), (7, 8), (7, 9), (8, 9), (9, 9), (10, 9), (10, 10), (10, 11), (10, 12), (9, 12), (9, 13), (8, 13), (8, 14), (8, 15), (9, 15), (9, 16), (10, 16), (10, 17), (11, 17), (11, 18), (12, 18), (13, 18), (14, 18), (15, 18), (16, 18), (17, 18), (18, 18), (18, 17), (19, 17), (20, 17), (21, 17), (22, 17), (22, 18), (23, 18), (23, 19), (24, 19), (24, 20), (24, 21), (24, 22), (24, 23), (25, 23), (26, 23), (27, 23), (28, 23), (28, 24), (28, 25), (29, 25), (29, 26), (29, 27), (29, 28)])\n"
     ]
    }
   ],
   "source": [
    "maze_30x30 = [\n",
    "    [0, 0, 1, 0, 0, 0, 1, 0, 0, 0, 1, 1, 0, 1, 0, 0, 1, 0, 1, 0, 0, 0, 1, 0, 1, 0, 0, 1, 1, 0],\n",
    "    [1, 0, 1, 0, 1, 0, 1, 1, 1, 0, 0, 0, 0, 1, 1, 0, 1, 0, 0, 1, 1, 0, 0, 0, 1, 1, 0, 0, 0, 1],\n",
    "    [1, 0, 0, 0, 1, 0, 0, 0, 1, 0, 1, 1, 1, 0, 0, 0, 0, 0, 1, 1, 0, 0, 1, 0, 0, 1, 1, 1, 0, 0],\n",
    "    [1, 1, 0, 1, 1, 1, 0, 1, 0, 0, 0, 1, 0, 1, 1, 0, 1, 0, 1, 0, 0, 1, 1, 1, 0, 0, 1, 0, 1, 0],\n",
    "    [0, 0, 0, 0, 0, 1, 0, 0, 0, 1, 0, 0, 1, 0, 0, 0, 1, 0, 0, 1, 1, 0, 0, 1, 0, 1, 0, 0, 1, 0],\n",
    "    [0, 1, 1, 1, 0, 1, 1, 1, 0, 0, 1, 1, 0, 1, 1, 1, 0, 1, 1, 1, 0, 1, 0, 0, 1, 0, 0, 0, 0, 1],\n",
    "    [0, 0, 0, 0, 0, 0, 0, 1, 1, 0, 1, 0, 0, 1, 0, 1, 0, 0, 0, 0, 0, 0, 1, 1, 0, 1, 0, 1, 1, 0],\n",
    "    [1, 1, 0, 1, 1, 0, 1, 0, 0, 0, 0, 1, 1, 0, 1, 0, 1, 1, 0, 1, 1, 0, 1, 0, 0, 0, 0, 1, 0, 0],\n",
    "    [0, 1, 0, 0, 1, 0, 0, 0, 1, 1, 0, 0, 1, 0, 0, 0, 0, 1, 0, 0, 1, 0, 0, 1, 0, 1, 1, 0, 0, 1],\n",
    "    [0, 0, 0, 1, 0, 0, 1, 0, 0, 0, 0, 1, 0, 1, 1, 1, 0, 1, 0, 0, 1, 1, 0, 0, 1, 1, 0, 1, 1, 0],\n",
    "    [0, 1, 0, 0, 1, 1, 0, 1, 1, 0, 0, 0, 0, 1, 0, 0, 0, 0, 1, 0, 0, 1, 1, 0, 1, 0, 0, 0, 0, 1],\n",
    "    [1, 0, 1, 0, 0, 0, 1, 0, 0, 1, 0, 1, 0, 0, 1, 1, 0, 1, 0, 0, 0, 1, 1, 0, 0, 1, 1, 0, 0, 0],\n",
    "    [0, 1, 0, 0, 1, 0, 0, 1, 1, 0, 0, 0, 1, 0, 0, 1, 0, 1, 0, 1, 1, 0, 1, 0, 0, 0, 1, 1, 0, 1],\n",
    "    [1, 1, 1, 0, 0, 0, 1, 1, 0, 0, 1, 0, 1, 0, 0, 1, 0, 1, 1, 0, 0, 0, 0, 1, 1, 0, 0, 1, 0, 0],\n",
    "    [0, 0, 1, 1, 0, 0, 0, 1, 0, 1, 1, 0, 0, 1, 1, 0, 1, 0, 0, 0, 1, 1, 0, 0, 1, 0, 0, 1, 0, 1],\n",
    "    [1, 0, 0, 0, 0, 1, 1, 0, 0, 0, 1, 0, 0, 1, 0, 0, 0, 1, 1, 1, 0, 1, 1, 0, 0, 0, 1, 0, 1, 0],\n",
    "    [0, 0, 0, 1, 1, 0, 0, 0, 1, 0, 0, 1, 1, 0, 1, 0, 0, 1, 0, 1, 1, 0, 0, 0, 1, 0, 0, 1, 1, 0],\n",
    "    [1, 0, 0, 0, 1, 0, 0, 1, 0, 1, 0, 0, 1, 1, 0, 0, 0, 1, 0, 0, 0, 0, 0, 1, 1, 0, 0, 0, 1, 1],\n",
    "    [0, 1, 0, 0, 0, 0, 1, 0, 0, 1, 1, 0, 0, 0, 0, 0, 0, 0, 0, 1, 0, 1, 0, 0, 1, 0, 1, 0, 1, 0],\n",
    "    [0, 0, 1, 0, 1, 0, 0, 1, 1, 0, 0, 0, 1, 0, 0, 1, 0, 1, 0, 0, 0, 1, 1, 0, 0, 1, 0, 0, 0, 1],\n",
    "    [1, 0, 1, 1, 0, 1, 0, 0, 1, 0, 1, 1, 0, 1, 0, 0, 1, 0, 1, 0, 1, 0, 0, 1, 0, 0, 1, 0, 1, 1],\n",
    "    [0, 0, 0, 0, 1, 1, 0, 0, 0, 0, 1, 0, 0, 1, 1, 1, 0, 0, 0, 1, 0, 1, 1, 0, 0, 1, 0, 1, 0, 0],\n",
    "    [1, 0, 1, 0, 0, 0, 1, 0, 1, 0, 1, 0, 0, 0, 1, 0, 1, 1, 0, 0, 0, 1, 1, 1, 0, 1, 0, 1, 0, 0],\n",
    "    [0, 1, 0, 1, 1, 0, 0, 1, 0, 1, 0, 1, 0, 0, 0, 0, 1, 0, 1, 0, 1, 0, 1, 1, 0, 0, 0, 0, 0, 1],\n",
    "    [1, 0, 0, 0, 0, 0, 1, 0, 0, 1, 0, 0, 0, 1, 0, 0, 0, 0, 1, 0, 0, 1, 0, 1, 0, 1, 1, 0, 0, 1],\n",
    "    [0, 0, 1, 0, 1, 1, 0, 1, 0, 0, 0, 1, 1, 0, 1, 0, 0, 0, 0, 1, 0, 0, 1, 0, 1, 0, 1, 1, 0, 0],\n",
    "    [0, 1, 0, 0, 0, 1, 0, 0, 1, 0, 1, 0, 0, 1, 0, 1, 0, 0, 1, 0, 0, 0, 1, 0, 0, 1, 1, 0, 1, 0],\n",
    "    [1, 0, 0, 0, 0, 1, 1, 0, 1, 1, 0, 1, 0, 0, 0, 1, 0, 1, 1, 0, 0, 1, 0, 0, 1, 0, 0, 1, 0, 0],\n",
    "    [0, 1, 0, 1, 1, 0, 1, 0, 0, 1, 0, 1, 0, 1, 0, 0, 1, 0, 0, 1, 1, 0, 1, 0, 0, 1, 0, 0, 1, 0]\n",
    "]\n",
    "\n",
    "print('MAZE 30 x 30 --------------------')\n",
    "print(bfs_maze(maze_30x30))  #BFS\n",
    "print(dfs_agent_maze(maze_30x30)) #DFS\n",
    "print(iddfs_agent_maze(maze_30x30)) #IDDFS"
   ]
  },
  {
   "cell_type": "code",
   "execution_count": null,
   "metadata": {},
   "outputs": [],
   "source": []
  }
 ],
 "metadata": {
  "kernelspec": {
   "display_name": "Python 3",
   "language": "python",
   "name": "python3"
  },
  "language_info": {
   "codemirror_mode": {
    "name": "ipython",
    "version": 3
   },
   "file_extension": ".py",
   "mimetype": "text/x-python",
   "name": "python",
   "nbconvert_exporter": "python",
   "pygments_lexer": "ipython3",
   "version": "3.12.4"
  }
 },
 "nbformat": 4,
 "nbformat_minor": 2
}
