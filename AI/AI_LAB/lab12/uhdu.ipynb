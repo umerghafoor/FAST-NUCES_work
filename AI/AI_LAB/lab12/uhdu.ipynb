{
 "cells": [
  {
   "cell_type": "code",
   "execution_count": 147,
   "metadata": {},
   "outputs": [],
   "source": [
    "import numpy as np\n",
    "import matplotlib.pyplot as plt\n",
    "import pandas as pd"
   ]
  },
  {
   "cell_type": "code",
   "execution_count": 148,
   "metadata": {},
   "outputs": [],
   "source": [
    "df = pd.read_csv('loan_dataset.csv')"
   ]
  },
  {
   "cell_type": "code",
   "execution_count": 149,
   "metadata": {},
   "outputs": [
    {
     "data": {
      "text/html": [
       "<div>\n",
       "<style scoped>\n",
       "    .dataframe tbody tr th:only-of-type {\n",
       "        vertical-align: middle;\n",
       "    }\n",
       "\n",
       "    .dataframe tbody tr th {\n",
       "        vertical-align: top;\n",
       "    }\n",
       "\n",
       "    .dataframe thead th {\n",
       "        text-align: right;\n",
       "    }\n",
       "</style>\n",
       "<table border=\"1\" class=\"dataframe\">\n",
       "  <thead>\n",
       "    <tr style=\"text-align: right;\">\n",
       "      <th></th>\n",
       "      <th>age</th>\n",
       "      <th>gender</th>\n",
       "      <th>occupation</th>\n",
       "      <th>education_level</th>\n",
       "      <th>marital_status</th>\n",
       "      <th>income</th>\n",
       "      <th>credit_score</th>\n",
       "      <th>loan_status</th>\n",
       "    </tr>\n",
       "  </thead>\n",
       "  <tbody>\n",
       "    <tr>\n",
       "      <th>0</th>\n",
       "      <td>32</td>\n",
       "      <td>Male</td>\n",
       "      <td>Engineer</td>\n",
       "      <td>Bachelor's</td>\n",
       "      <td>Married</td>\n",
       "      <td>85000</td>\n",
       "      <td>720</td>\n",
       "      <td>Approved</td>\n",
       "    </tr>\n",
       "    <tr>\n",
       "      <th>1</th>\n",
       "      <td>45</td>\n",
       "      <td>Female</td>\n",
       "      <td>Teacher</td>\n",
       "      <td>Master's</td>\n",
       "      <td>Single</td>\n",
       "      <td>62000</td>\n",
       "      <td>680</td>\n",
       "      <td>Approved</td>\n",
       "    </tr>\n",
       "    <tr>\n",
       "      <th>2</th>\n",
       "      <td>28</td>\n",
       "      <td>Male</td>\n",
       "      <td>Student</td>\n",
       "      <td>High School</td>\n",
       "      <td>Single</td>\n",
       "      <td>25000</td>\n",
       "      <td>590</td>\n",
       "      <td>Denied</td>\n",
       "    </tr>\n",
       "    <tr>\n",
       "      <th>3</th>\n",
       "      <td>51</td>\n",
       "      <td>Female</td>\n",
       "      <td>Manager</td>\n",
       "      <td>Bachelor's</td>\n",
       "      <td>Married</td>\n",
       "      <td>105000</td>\n",
       "      <td>780</td>\n",
       "      <td>Approved</td>\n",
       "    </tr>\n",
       "    <tr>\n",
       "      <th>4</th>\n",
       "      <td>36</td>\n",
       "      <td>Male</td>\n",
       "      <td>Accountant</td>\n",
       "      <td>Bachelor's</td>\n",
       "      <td>Married</td>\n",
       "      <td>75000</td>\n",
       "      <td>710</td>\n",
       "      <td>Approved</td>\n",
       "    </tr>\n",
       "  </tbody>\n",
       "</table>\n",
       "</div>"
      ],
      "text/plain": [
       "   age  gender  occupation education_level marital_status  income  \\\n",
       "0   32    Male    Engineer      Bachelor's        Married   85000   \n",
       "1   45  Female     Teacher        Master's         Single   62000   \n",
       "2   28    Male     Student     High School         Single   25000   \n",
       "3   51  Female     Manager      Bachelor's        Married  105000   \n",
       "4   36    Male  Accountant      Bachelor's        Married   75000   \n",
       "\n",
       "   credit_score loan_status  \n",
       "0           720    Approved  \n",
       "1           680    Approved  \n",
       "2           590      Denied  \n",
       "3           780    Approved  \n",
       "4           710    Approved  "
      ]
     },
     "execution_count": 149,
     "metadata": {},
     "output_type": "execute_result"
    }
   ],
   "source": [
    "df.head()"
   ]
  },
  {
   "cell_type": "code",
   "execution_count": 150,
   "metadata": {},
   "outputs": [
    {
     "data": {
      "text/plain": [
       "<matplotlib.collections.PathCollection at 0x1d83a1f2510>"
      ]
     },
     "execution_count": 150,
     "metadata": {},
     "output_type": "execute_result"
    },
    {
     "data": {
      "image/png": "[encoded data removed]",
      "text/plain": [
       "<Figure size 640x480 with 1 Axes>"
      ]
     },
     "metadata": {},
     "output_type": "display_data"
    }
   ],
   "source": [
    "plt.scatter(df['credit_score'], df['loan_status'])"
   ]
  },
  {
   "cell_type": "code",
   "execution_count": 151,
   "metadata": {},
   "outputs": [
    {
     "data": {
      "text/plain": [
       "<matplotlib.collections.PathCollection at 0x1d83a46be30>"
      ]
     },
     "execution_count": 151,
     "metadata": {},
     "output_type": "execute_result"
    },
    {
     "data": {
      "image/png": "[encoded data removed]",
      "text/plain": [
       "<Figure size 640x480 with 1 Axes>"
      ]
     },
     "metadata": {},
     "output_type": "display_data"
    }
   ],
   "source": [
    "plt.scatter(df['income'], df['loan_status'])"
   ]
  },
  {
   "cell_type": "code",
   "execution_count": 152,
   "metadata": {},
   "outputs": [
    {
     "data": {
      "text/html": [
       "<div>\n",
       "<style scoped>\n",
       "    .dataframe tbody tr th:only-of-type {\n",
       "        vertical-align: middle;\n",
       "    }\n",
       "\n",
       "    .dataframe tbody tr th {\n",
       "        vertical-align: top;\n",
       "    }\n",
       "\n",
       "    .dataframe thead th {\n",
       "        text-align: right;\n",
       "    }\n",
       "</style>\n",
       "<table border=\"1\" class=\"dataframe\">\n",
       "  <thead>\n",
       "    <tr style=\"text-align: right;\">\n",
       "      <th></th>\n",
       "      <th>age</th>\n",
       "      <th>gender</th>\n",
       "      <th>occupation</th>\n",
       "      <th>education_level</th>\n",
       "      <th>marital_status</th>\n",
       "      <th>income</th>\n",
       "      <th>credit_score</th>\n",
       "      <th>loan_status</th>\n",
       "    </tr>\n",
       "  </thead>\n",
       "  <tbody>\n",
       "    <tr>\n",
       "      <th>0</th>\n",
       "      <td>32</td>\n",
       "      <td>Male</td>\n",
       "      <td>Engineer</td>\n",
       "      <td>Bachelor's</td>\n",
       "      <td>Married</td>\n",
       "      <td>0.472222</td>\n",
       "      <td>0.592593</td>\n",
       "      <td>1</td>\n",
       "    </tr>\n",
       "    <tr>\n",
       "      <th>1</th>\n",
       "      <td>45</td>\n",
       "      <td>Female</td>\n",
       "      <td>Teacher</td>\n",
       "      <td>Master's</td>\n",
       "      <td>Single</td>\n",
       "      <td>0.344444</td>\n",
       "      <td>0.444444</td>\n",
       "      <td>1</td>\n",
       "    </tr>\n",
       "    <tr>\n",
       "      <th>2</th>\n",
       "      <td>28</td>\n",
       "      <td>Male</td>\n",
       "      <td>Student</td>\n",
       "      <td>High School</td>\n",
       "      <td>Single</td>\n",
       "      <td>0.138889</td>\n",
       "      <td>0.111111</td>\n",
       "      <td>0</td>\n",
       "    </tr>\n",
       "    <tr>\n",
       "      <th>3</th>\n",
       "      <td>51</td>\n",
       "      <td>Female</td>\n",
       "      <td>Manager</td>\n",
       "      <td>Bachelor's</td>\n",
       "      <td>Married</td>\n",
       "      <td>0.583333</td>\n",
       "      <td>0.814815</td>\n",
       "      <td>1</td>\n",
       "    </tr>\n",
       "    <tr>\n",
       "      <th>4</th>\n",
       "      <td>36</td>\n",
       "      <td>Male</td>\n",
       "      <td>Accountant</td>\n",
       "      <td>Bachelor's</td>\n",
       "      <td>Married</td>\n",
       "      <td>0.416667</td>\n",
       "      <td>0.555556</td>\n",
       "      <td>1</td>\n",
       "    </tr>\n",
       "  </tbody>\n",
       "</table>\n",
       "</div>"
      ],
      "text/plain": [
       "   age  gender  occupation education_level marital_status    income  \\\n",
       "0   32    Male    Engineer      Bachelor's        Married  0.472222   \n",
       "1   45  Female     Teacher        Master's         Single  0.344444   \n",
       "2   28    Male     Student     High School         Single  0.138889   \n",
       "3   51  Female     Manager      Bachelor's        Married  0.583333   \n",
       "4   36    Male  Accountant      Bachelor's        Married  0.416667   \n",
       "\n",
       "   credit_score  loan_status  \n",
       "0      0.592593            1  \n",
       "1      0.444444            1  \n",
       "2      0.111111            0  \n",
       "3      0.814815            1  \n",
       "4      0.555556            1  "
      ]
     },
     "execution_count": 152,
     "metadata": {},
     "output_type": "execute_result"
    }
   ],
   "source": [
    "# convert loan_status to binary\n",
    "df['loan_status'] = df['loan_status'].apply(lambda x: 0 if x == 'Denied' else 1)\n",
    "# normalizing the data scince it has really big values\n",
    "df['credit_score'] = (df['credit_score'] - df['credit_score'].min()) / (df['credit_score'].max() - df['credit_score'].min())\n",
    "df['income'] = df['income'] / df['income'].max()\n",
    "df.head()"
   ]
  },
  {
   "cell_type": "code",
   "execution_count": 153,
   "metadata": {},
   "outputs": [],
   "source": [
    "# using the credit score and income as features\n",
    "x = df[['credit_score', 'income']].values\n",
    "y = df['loan_status'].values"
   ]
  },
  {
   "cell_type": "code",
   "execution_count": 154,
   "metadata": {},
   "outputs": [],
   "source": [
    "# test train split\n",
    "from sklearn.model_selection import train_test_split\n",
    "x_train, x_test, y_train, y_test = train_test_split(x, y, test_size=0.2)"
   ]
  },
  {
   "cell_type": "code",
   "execution_count": 155,
   "metadata": {},
   "outputs": [],
   "source": [
    "def sigmoid(x):\n",
    "    # print(1 + np.exp(-x))\n",
    "    return 1 / (1 + np.exp(-x))\n",
    "\n",
    "def logistic_func(theta, x):\n",
    "    # Logistic function for predictions\n",
    "    # print(x)\n",
    "    # print(np.dot(x, theta))\n",
    "    return sigmoid(np.dot(x, theta))\n",
    "\n",
    "def cost_func(theta, x, y):\n",
    "    # Logistic regression cost function\n",
    "    m = x.shape[0]\n",
    "    logistic = logistic_func(theta, x)\n",
    "    cost = -(1/m) * np.sum(y * np.log(logistic + 1e-9) + (1 - y) * np.log(1 - logistic + 1e-9))\n",
    "    return cost\n",
    "\n",
    "def gradient(theta, x, y):\n",
    "    m = x.shape[0]\n",
    "    # print(r)\n",
    "    return (1/m) *  np.dot(x.T,  logistic_func(theta, x) - y)\n",
    "\n",
    "def fit(x, y, alpha=0.1, max_iter=200, eps=1e-6):\n",
    "    # Train the logistic regression model\n",
    "    x = np.insert(x, 0, 1, axis=1)  # Add bias term\n",
    "    # theta = np.zeros(x.shape[1])\n",
    "    theta = np.random.rand(x.shape[1]) * 0.01\n",
    "    cost_history = []\n",
    "\n",
    "    for _ in range(max_iter):\n",
    "        grad = gradient(theta, x, y)\n",
    "        theta -= alpha * grad\n",
    "        # print(grad)\n",
    "        new_cost = cost_func(theta, x, y)\n",
    "        cost_history.append(new_cost)\n",
    "\n",
    "    return theta, cost_history\n",
    "\n",
    "def predict(x, theta):\n",
    "    x = np.insert(x, 0, 1, axis=1)\n",
    "    return logistic_func(theta, x)"
   ]
  },
  {
   "cell_type": "code",
   "execution_count": 171,
   "metadata": {},
   "outputs": [
    {
     "name": "stdout",
     "output_type": "stream",
     "text": [
      "[-4.5804134   9.79187675  4.72192585]\n"
     ]
    },
    {
     "data": {
      "text/plain": [
       "[<matplotlib.lines.Line2D at 0x1d83bbf6ba0>]"
      ]
     },
     "execution_count": 171,
     "metadata": {},
     "output_type": "execute_result"
    },
    {
     "data": {
      "image/png": "[encoded data removed]",
      "text/plain": [
       "<Figure size 640x480 with 1 Axes>"
      ]
     },
     "metadata": {},
     "output_type": "display_data"
    }
   ],
   "source": [
    "theta, history = fit(x_train, y_train, alpha=1, max_iter=500)\n",
    "\n",
    "print(theta)\n",
    "\n",
    "plt.plot(history)"
   ]
  },
  {
   "cell_type": "code",
   "execution_count": 172,
   "metadata": {},
   "outputs": [
    {
     "name": "stdout",
     "output_type": "stream",
     "text": [
      "[1. 1. 1. 1. 1. 1. 0. 1. 1. 1. 0. 1. 1.]\n",
      "0.9230769230769231\n"
     ]
    }
   ],
   "source": [
    "# predict\n",
    "y_pred = predict(x_test, theta)\n",
    "\n",
    "# convert to binary\n",
    "y_pred = np.round(y_pred)\n",
    "print(y_pred)\n",
    "\n",
    "# accuracy\n",
    "accuracy = np.mean(y_pred == y_test)\n",
    "print(accuracy)"
   ]
  },
  {
   "cell_type": "code",
   "execution_count": null,
   "metadata": {},
   "outputs": [],
   "source": []
  }
 ],
 "metadata": {
  "kernelspec": {
   "display_name": "Python 3",
   "language": "python",
   "name": "python3"
  },
  "language_info": {
   "codemirror_mode": {
    "name": "ipython",
    "version": 3
   },
   "file_extension": ".py",
   "mimetype": "text/x-python",
   "name": "python",
   "nbconvert_exporter": "python",
   "pygments_lexer": "ipython3",
   "version": "3.12.4"
  }
 },
 "nbformat": 4,
 "nbformat_minor": 2
}
