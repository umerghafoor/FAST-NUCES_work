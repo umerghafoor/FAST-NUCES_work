{
 "cells": [
  {
   "cell_type": "code",
   "execution_count": 19,
   "metadata": {},
   "outputs": [],
   "source": [
    "import numpy as np\n",
    "import matplotlib.pyplot as plt\n",
    "import pandas as pd"
   ]
  },
  {
   "cell_type": "code",
   "execution_count": 20,
   "metadata": {},
   "outputs": [],
   "source": [
    "df = pd.read_csv('loan_dataset.csv')"
   ]
  },
  {
   "cell_type": "code",
   "execution_count": 21,
   "metadata": {},
   "outputs": [
    {
     "data": {
      "text/html": [
       "<div>\n",
       "<style scoped>\n",
       "    .dataframe tbody tr th:only-of-type {\n",
       "        vertical-align: middle;\n",
       "    }\n",
       "\n",
       "    .dataframe tbody tr th {\n",
       "        vertical-align: top;\n",
       "    }\n",
       "\n",
       "    .dataframe thead th {\n",
       "        text-align: right;\n",
       "    }\n",
       "</style>\n",
       "<table border=\"1\" class=\"dataframe\">\n",
       "  <thead>\n",
       "    <tr style=\"text-align: right;\">\n",
       "      <th></th>\n",
       "      <th>age</th>\n",
       "      <th>gender</th>\n",
       "      <th>occupation</th>\n",
       "      <th>education_level</th>\n",
       "      <th>marital_status</th>\n",
       "      <th>income</th>\n",
       "      <th>credit_score</th>\n",
       "      <th>loan_status</th>\n",
       "    </tr>\n",
       "  </thead>\n",
       "  <tbody>\n",
       "    <tr>\n",
       "      <th>0</th>\n",
       "      <td>32</td>\n",
       "      <td>Male</td>\n",
       "      <td>Engineer</td>\n",
       "      <td>Bachelor's</td>\n",
       "      <td>Married</td>\n",
       "      <td>85000</td>\n",
       "      <td>720</td>\n",
       "      <td>Approved</td>\n",
       "    </tr>\n",
       "    <tr>\n",
       "      <th>1</th>\n",
       "      <td>45</td>\n",
       "      <td>Female</td>\n",
       "      <td>Teacher</td>\n",
       "      <td>Master's</td>\n",
       "      <td>Single</td>\n",
       "      <td>62000</td>\n",
       "      <td>680</td>\n",
       "      <td>Approved</td>\n",
       "    </tr>\n",
       "    <tr>\n",
       "      <th>2</th>\n",
       "      <td>28</td>\n",
       "      <td>Male</td>\n",
       "      <td>Student</td>\n",
       "      <td>High School</td>\n",
       "      <td>Single</td>\n",
       "      <td>25000</td>\n",
       "      <td>590</td>\n",
       "      <td>Denied</td>\n",
       "    </tr>\n",
       "    <tr>\n",
       "      <th>3</th>\n",
       "      <td>51</td>\n",
       "      <td>Female</td>\n",
       "      <td>Manager</td>\n",
       "      <td>Bachelor's</td>\n",
       "      <td>Married</td>\n",
       "      <td>105000</td>\n",
       "      <td>780</td>\n",
       "      <td>Approved</td>\n",
       "    </tr>\n",
       "    <tr>\n",
       "      <th>4</th>\n",
       "      <td>36</td>\n",
       "      <td>Male</td>\n",
       "      <td>Accountant</td>\n",
       "      <td>Bachelor's</td>\n",
       "      <td>Married</td>\n",
       "      <td>75000</td>\n",
       "      <td>710</td>\n",
       "      <td>Approved</td>\n",
       "    </tr>\n",
       "  </tbody>\n",
       "</table>\n",
       "</div>"
      ],
      "text/plain": [
       "   age  gender  occupation education_level marital_status  income  \\\n",
       "0   32    Male    Engineer      Bachelor's        Married   85000   \n",
       "1   45  Female     Teacher        Master's         Single   62000   \n",
       "2   28    Male     Student     High School         Single   25000   \n",
       "3   51  Female     Manager      Bachelor's        Married  105000   \n",
       "4   36    Male  Accountant      Bachelor's        Married   75000   \n",
       "\n",
       "   credit_score loan_status  \n",
       "0           720    Approved  \n",
       "1           680    Approved  \n",
       "2           590      Denied  \n",
       "3           780    Approved  \n",
       "4           710    Approved  "
      ]
     },
     "execution_count": 21,
     "metadata": {},
     "output_type": "execute_result"
    }
   ],
   "source": [
    "df.head()"
   ]
  },
  {
   "cell_type": "code",
   "execution_count": 22,
   "metadata": {},
   "outputs": [
    {
     "data": {
      "text/plain": [
       "<matplotlib.collections.PathCollection at 0x189381b9610>"
      ]
     },
     "execution_count": 22,
     "metadata": {},
     "output_type": "execute_result"
    },
    {
     "data": {
      "image/png": "[encoded data removed]",
      "text/plain": [
       "<Figure size 640x480 with 1 Axes>"
      ]
     },
     "metadata": {},
     "output_type": "display_data"
    }
   ],
   "source": [
    "plt.scatter(df['credit_score'], df['loan_status'])"
   ]
  },
  {
   "cell_type": "code",
   "execution_count": 23,
   "metadata": {},
   "outputs": [
    {
     "data": {
      "text/plain": [
       "<matplotlib.collections.PathCollection at 0x18937ff62a0>"
      ]
     },
     "execution_count": 23,
     "metadata": {},
     "output_type": "execute_result"
    },
    {
     "data": {
      "image/png": "[encoded data removed]",
      "text/plain": [
       "<Figure size 640x480 with 1 Axes>"
      ]
     },
     "metadata": {},
     "output_type": "display_data"
    }
   ],
   "source": [
    "plt.scatter(df['income'], df['loan_status'])"
   ]
  },
  {
   "cell_type": "code",
   "execution_count": 24,
   "metadata": {},
   "outputs": [
    {
     "data": {
      "text/html": [
       "<div>\n",
       "<style scoped>\n",
       "    .dataframe tbody tr th:only-of-type {\n",
       "        vertical-align: middle;\n",
       "    }\n",
       "\n",
       "    .dataframe tbody tr th {\n",
       "        vertical-align: top;\n",
       "    }\n",
       "\n",
       "    .dataframe thead th {\n",
       "        text-align: right;\n",
       "    }\n",
       "</style>\n",
       "<table border=\"1\" class=\"dataframe\">\n",
       "  <thead>\n",
       "    <tr style=\"text-align: right;\">\n",
       "      <th></th>\n",
       "      <th>age</th>\n",
       "      <th>gender</th>\n",
       "      <th>occupation</th>\n",
       "      <th>education_level</th>\n",
       "      <th>marital_status</th>\n",
       "      <th>income</th>\n",
       "      <th>credit_score</th>\n",
       "      <th>loan_status</th>\n",
       "    </tr>\n",
       "  </thead>\n",
       "  <tbody>\n",
       "    <tr>\n",
       "      <th>0</th>\n",
       "      <td>32</td>\n",
       "      <td>Male</td>\n",
       "      <td>Engineer</td>\n",
       "      <td>Bachelor's</td>\n",
       "      <td>Married</td>\n",
       "      <td>0.387097</td>\n",
       "      <td>0.592593</td>\n",
       "      <td>1</td>\n",
       "    </tr>\n",
       "    <tr>\n",
       "      <th>1</th>\n",
       "      <td>45</td>\n",
       "      <td>Female</td>\n",
       "      <td>Teacher</td>\n",
       "      <td>Master's</td>\n",
       "      <td>Single</td>\n",
       "      <td>0.238710</td>\n",
       "      <td>0.444444</td>\n",
       "      <td>1</td>\n",
       "    </tr>\n",
       "    <tr>\n",
       "      <th>2</th>\n",
       "      <td>28</td>\n",
       "      <td>Male</td>\n",
       "      <td>Student</td>\n",
       "      <td>High School</td>\n",
       "      <td>Single</td>\n",
       "      <td>0.000000</td>\n",
       "      <td>0.111111</td>\n",
       "      <td>0</td>\n",
       "    </tr>\n",
       "    <tr>\n",
       "      <th>3</th>\n",
       "      <td>51</td>\n",
       "      <td>Female</td>\n",
       "      <td>Manager</td>\n",
       "      <td>Bachelor's</td>\n",
       "      <td>Married</td>\n",
       "      <td>0.516129</td>\n",
       "      <td>0.814815</td>\n",
       "      <td>1</td>\n",
       "    </tr>\n",
       "    <tr>\n",
       "      <th>4</th>\n",
       "      <td>36</td>\n",
       "      <td>Male</td>\n",
       "      <td>Accountant</td>\n",
       "      <td>Bachelor's</td>\n",
       "      <td>Married</td>\n",
       "      <td>0.322581</td>\n",
       "      <td>0.555556</td>\n",
       "      <td>1</td>\n",
       "    </tr>\n",
       "  </tbody>\n",
       "</table>\n",
       "</div>"
      ],
      "text/plain": [
       "   age  gender  occupation education_level marital_status    income  \\\n",
       "0   32    Male    Engineer      Bachelor's        Married  0.387097   \n",
       "1   45  Female     Teacher        Master's         Single  0.238710   \n",
       "2   28    Male     Student     High School         Single  0.000000   \n",
       "3   51  Female     Manager      Bachelor's        Married  0.516129   \n",
       "4   36    Male  Accountant      Bachelor's        Married  0.322581   \n",
       "\n",
       "   credit_score  loan_status  \n",
       "0      0.592593            1  \n",
       "1      0.444444            1  \n",
       "2      0.111111            0  \n",
       "3      0.814815            1  \n",
       "4      0.555556            1  "
      ]
     },
     "execution_count": 24,
     "metadata": {},
     "output_type": "execute_result"
    }
   ],
   "source": [
    "# convert loan_status to binary\n",
    "df['loan_status'] = df['loan_status'].apply(lambda x: 0 if x == 'Denied' else 1)\n",
    "# normalizing the data scince it has really big values\n",
    "df['credit_score'] = (df['credit_score'] - df['credit_score'].min()) / (df['credit_score'].max() - df['credit_score'].min())\n",
    "df['income'] = (df['income'] - df['income'].min()) / (df['income'].max() - df['income'].min())\n",
    "df.head()"
   ]
  },
  {
   "cell_type": "code",
   "execution_count": 25,
   "metadata": {},
   "outputs": [],
   "source": [
    "# using the credit score and income as features\n",
    "x = df[['credit_score', 'income']].values\n",
    "# 3. Loan class prediction (Multi-class prediction, A/B/C): Credit Score > 750 = A, Credit Score > 650 and < 750 = B, Credit Score < 650 = C category. \n",
    "# prepare the target variable\n",
    "y_cat = df['credit_score'].apply(lambda x: 'A' if x > 0.75 else 'B' if x > 0.65 else 'C').values\n",
    "\n",
    "# one hot encoding the target variable do one hot encoding without using any library\n",
    "# y0 is 1 for A, 0 for B and 0 for C\n",
    "# y1 is 0 for A, 1 for B and 0 for C\n",
    "# y2 is 0 for A, 0 for B and 1 for C\n",
    "\n",
    "y = np.zeros((y_cat.size, 3))\n",
    "for i in range(y_cat.size):\n",
    "    if y_cat[i] == 'A':\n",
    "        y[i, 0] = 1\n",
    "    elif y_cat[i] == 'B':\n",
    "        y[i, 1] = 1\n",
    "    else:\n",
    "        y[i, 2] = 1"
   ]
  },
  {
   "cell_type": "code",
   "execution_count": 26,
   "metadata": {},
   "outputs": [],
   "source": [
    "# test train split\n",
    "from sklearn.model_selection import train_test_split\n",
    "x_train, x_test, y_train, y_test = train_test_split(x, y, test_size=0.2)"
   ]
  },
  {
   "cell_type": "code",
   "execution_count": 27,
   "metadata": {},
   "outputs": [],
   "source": [
    "def sigmoid(x):\n",
    "    # print(1 + np.exp(-x))\n",
    "    return 1 / (1 + np.exp(-x))\n",
    "\n",
    "def logistic_func(theta, x):\n",
    "    # Logistic function for predictions\n",
    "    # print(x)\n",
    "    # print(np.dot(x, theta))\n",
    "    return sigmoid(np.dot(x, theta))\n",
    "\n",
    "def cost_func(theta, x, y):\n",
    "    # Logistic regression cost function\n",
    "    m = x.shape[0]\n",
    "    logistic = logistic_func(theta, x)\n",
    "    cost = -(1/m) * np.sum(y * np.log(logistic + 1e-9) + (1 - y) * np.log(1 - logistic + 1e-9))\n",
    "    return cost\n",
    "\n",
    "def gradient(theta, x, y):\n",
    "    m = x.shape[0]\n",
    "    # print(r)\n",
    "    return (1/m) *  np.dot(x.T,  logistic_func(theta, x) - y)\n",
    "\n",
    "def fit(x, y, alpha=0.1, max_iter=200, eps=1e-6):\n",
    "    # Train the logistic regression model\n",
    "    x = np.insert(x, 0, 1, axis=1)  # Add bias term\n",
    "    # theta = np.zeros(x.shape[1])\n",
    "    theta = np.random.rand(x.shape[1]) * 0.01\n",
    "    cost_history = []\n",
    "\n",
    "    for _ in range(max_iter):\n",
    "        grad = gradient(theta, x, y)\n",
    "        theta -= alpha * grad\n",
    "        # print(grad)\n",
    "        new_cost = cost_func(theta, x, y)\n",
    "        cost_history.append(new_cost)\n",
    "\n",
    "    return theta, cost_history\n",
    "\n",
    "def predict(x, theta):\n",
    "    x = np.insert(x, 0, 1, axis=1)\n",
    "    return logistic_func(theta, x)\n",
    "\n",
    "def softmax(x):\n",
    "    return np.exp(x) / np.sum(np.exp(x), axis=1).reshape(-1, 1)"
   ]
  },
  {
   "cell_type": "code",
   "execution_count": 28,
   "metadata": {},
   "outputs": [
    {
     "name": "stdout",
     "output_type": "stream",
     "text": [
      "[-11.03695215   8.52406379   9.35799032]\n",
      "[-3.16556811  5.57970382 -4.06460879]\n",
      "[  9.61461953 -11.03986011  -8.30175723]\n"
     ]
    },
    {
     "data": {
      "text/plain": [
       "[<matplotlib.lines.Line2D at 0x1893843cc80>]"
      ]
     },
     "execution_count": 28,
     "metadata": {},
     "output_type": "execute_result"
    },
    {
     "data": {
      "image/png": "[encoded data removed]",
      "text/plain": [
       "<Figure size 640x480 with 1 Axes>"
      ]
     },
     "metadata": {},
     "output_type": "display_data"
    }
   ],
   "source": [
    "theta_1, history = fit(x_train, y_train[:, 0], alpha=1, max_iter=1000)\n",
    "print(theta_1)\n",
    "plt.plot(history)\n",
    "\n",
    "theta_2, history = fit(x_train, y_train[:, 1], alpha=1, max_iter=1000)\n",
    "print(theta_2)\n",
    "plt.plot(history)\n",
    "\n",
    "theta_3, history = fit(x_train, y_train[:, 2], alpha=1, max_iter=1000)\n",
    "print(theta_3)\n",
    "plt.plot(history)"
   ]
  },
  {
   "cell_type": "code",
   "execution_count": 31,
   "metadata": {},
   "outputs": [
    {
     "name": "stdout",
     "output_type": "stream",
     "text": [
      "[[0.27319479 0.32796947 0.39883575]\n",
      " [0.23017507 0.26994382 0.49988111]\n",
      " [0.20864569 0.23247757 0.55887674]\n",
      " [0.20889511 0.2241189  0.566986  ]\n",
      " [0.44907257 0.31689387 0.23403356]\n",
      " [0.42059802 0.31704092 0.26236106]\n",
      " [0.41304473 0.33194904 0.25500623]\n",
      " [0.20956615 0.24185201 0.54858184]\n",
      " [0.23309179 0.30231619 0.46459203]\n",
      " [0.28461219 0.32862868 0.38675913]\n",
      " [0.26630931 0.30905812 0.42463257]\n",
      " [0.2209633  0.26876892 0.51026779]\n",
      " [0.21024993 0.21828732 0.57146275]]\n",
      "[2 2 2 2 0 0 0 2 2 2 2 2 2]\n"
     ]
    }
   ],
   "source": [
    "y_pred_0 = predict(x_test, theta_1)\n",
    "y_pred_1 = predict(x_test, theta_2)\n",
    "y_pred_2 = predict(x_test, theta_3)\n",
    "\n",
    "y_pred =  np.array([y_pred_0, y_pred_1, y_pred_2]).T\n",
    "y_pred = softmax(y_pred)\n",
    "print(y_pred)\n",
    "\n",
    "y_pred = np.argmax(y_pred, axis=1)\n",
    "\n",
    "print(y_pred)"
   ]
  },
  {
   "cell_type": "code",
   "execution_count": 36,
   "metadata": {},
   "outputs": [
    {
     "name": "stdout",
     "output_type": "stream",
     "text": [
      "pred :  2 test :  2 True\n",
      "pred :  2 test :  2 True\n",
      "pred :  2 test :  2 True\n",
      "pred :  2 test :  2 True\n",
      "pred :  0 test :  0 True\n",
      "pred :  0 test :  1 False\n",
      "pred :  0 test :  0 True\n",
      "pred :  2 test :  2 True\n",
      "pred :  2 test :  2 True\n",
      "pred :  2 test :  2 True\n",
      "pred :  2 test :  2 True\n",
      "pred :  2 test :  2 True\n",
      "pred :  2 test :  2 True\n"
     ]
    }
   ],
   "source": [
    "for i in range(y_pred.size):\n",
    "    print(\"pred : \",y_pred[i],\"test : \", np.argmax(y_test[i]), y_pred[i] == np.argmax(y_test[i]))"
   ]
  },
  {
   "cell_type": "code",
   "execution_count": null,
   "metadata": {},
   "outputs": [],
   "source": []
  }
 ],
 "metadata": {
  "kernelspec": {
   "display_name": "Python 3",
   "language": "python",
   "name": "python3"
  },
  "language_info": {
   "codemirror_mode": {
    "name": "ipython",
    "version": 3
   },
   "file_extension": ".py",
   "mimetype": "text/x-python",
   "name": "python",
   "nbconvert_exporter": "python",
   "pygments_lexer": "ipython3",
   "version": "3.12.4"
  }
 },
 "nbformat": 4,
 "nbformat_minor": 2
}
