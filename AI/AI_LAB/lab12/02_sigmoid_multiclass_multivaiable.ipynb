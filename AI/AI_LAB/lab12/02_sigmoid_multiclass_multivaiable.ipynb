{
 "cells": [
  {
   "cell_type": "code",
   "execution_count": 65,
   "metadata": {},
   "outputs": [],
   "source": [
    "import numpy as np\n",
    "import matplotlib.pyplot as plt\n",
    "import pandas as pd"
   ]
  },
  {
   "cell_type": "code",
   "execution_count": 66,
   "metadata": {},
   "outputs": [],
   "source": [
    "df = pd.read_csv('loan_dataset.csv')"
   ]
  },
  {
   "cell_type": "code",
   "execution_count": 67,
   "metadata": {},
   "outputs": [
    {
     "data": {
      "text/html": [
       "<div>\n",
       "<style scoped>\n",
       "    .dataframe tbody tr th:only-of-type {\n",
       "        vertical-align: middle;\n",
       "    }\n",
       "\n",
       "    .dataframe tbody tr th {\n",
       "        vertical-align: top;\n",
       "    }\n",
       "\n",
       "    .dataframe thead th {\n",
       "        text-align: right;\n",
       "    }\n",
       "</style>\n",
       "<table border=\"1\" class=\"dataframe\">\n",
       "  <thead>\n",
       "    <tr style=\"text-align: right;\">\n",
       "      <th></th>\n",
       "      <th>age</th>\n",
       "      <th>gender</th>\n",
       "      <th>occupation</th>\n",
       "      <th>education_level</th>\n",
       "      <th>marital_status</th>\n",
       "      <th>income</th>\n",
       "      <th>credit_score</th>\n",
       "      <th>loan_status</th>\n",
       "    </tr>\n",
       "  </thead>\n",
       "  <tbody>\n",
       "    <tr>\n",
       "      <th>0</th>\n",
       "      <td>32</td>\n",
       "      <td>Male</td>\n",
       "      <td>Engineer</td>\n",
       "      <td>Bachelor's</td>\n",
       "      <td>Married</td>\n",
       "      <td>85000</td>\n",
       "      <td>720</td>\n",
       "      <td>Approved</td>\n",
       "    </tr>\n",
       "    <tr>\n",
       "      <th>1</th>\n",
       "      <td>45</td>\n",
       "      <td>Female</td>\n",
       "      <td>Teacher</td>\n",
       "      <td>Master's</td>\n",
       "      <td>Single</td>\n",
       "      <td>62000</td>\n",
       "      <td>680</td>\n",
       "      <td>Approved</td>\n",
       "    </tr>\n",
       "    <tr>\n",
       "      <th>2</th>\n",
       "      <td>28</td>\n",
       "      <td>Male</td>\n",
       "      <td>Student</td>\n",
       "      <td>High School</td>\n",
       "      <td>Single</td>\n",
       "      <td>25000</td>\n",
       "      <td>590</td>\n",
       "      <td>Denied</td>\n",
       "    </tr>\n",
       "    <tr>\n",
       "      <th>3</th>\n",
       "      <td>51</td>\n",
       "      <td>Female</td>\n",
       "      <td>Manager</td>\n",
       "      <td>Bachelor's</td>\n",
       "      <td>Married</td>\n",
       "      <td>105000</td>\n",
       "      <td>780</td>\n",
       "      <td>Approved</td>\n",
       "    </tr>\n",
       "    <tr>\n",
       "      <th>4</th>\n",
       "      <td>36</td>\n",
       "      <td>Male</td>\n",
       "      <td>Accountant</td>\n",
       "      <td>Bachelor's</td>\n",
       "      <td>Married</td>\n",
       "      <td>75000</td>\n",
       "      <td>710</td>\n",
       "      <td>Approved</td>\n",
       "    </tr>\n",
       "  </tbody>\n",
       "</table>\n",
       "</div>"
      ],
      "text/plain": [
       "   age  gender  occupation education_level marital_status  income  \\\n",
       "0   32    Male    Engineer      Bachelor's        Married   85000   \n",
       "1   45  Female     Teacher        Master's         Single   62000   \n",
       "2   28    Male     Student     High School         Single   25000   \n",
       "3   51  Female     Manager      Bachelor's        Married  105000   \n",
       "4   36    Male  Accountant      Bachelor's        Married   75000   \n",
       "\n",
       "   credit_score loan_status  \n",
       "0           720    Approved  \n",
       "1           680    Approved  \n",
       "2           590      Denied  \n",
       "3           780    Approved  \n",
       "4           710    Approved  "
      ]
     },
     "execution_count": 67,
     "metadata": {},
     "output_type": "execute_result"
    }
   ],
   "source": [
    "df.head()"
   ]
  },
  {
   "cell_type": "code",
   "execution_count": 68,
   "metadata": {},
   "outputs": [
    {
     "data": {
      "text/plain": [
       "<matplotlib.collections.PathCollection at 0x1b54c564290>"
      ]
     },
     "execution_count": 68,
     "metadata": {},
     "output_type": "execute_result"
    },
    {
     "data": {
      "image/png": "[encoded data removed]",
      "text/plain": [
       "<Figure size 640x480 with 1 Axes>"
      ]
     },
     "metadata": {},
     "output_type": "display_data"
    }
   ],
   "source": [
    "plt.scatter(df['credit_score'], df['loan_status'])"
   ]
  },
  {
   "cell_type": "code",
   "execution_count": 69,
   "metadata": {},
   "outputs": [
    {
     "data": {
      "text/plain": [
       "<matplotlib.collections.PathCollection at 0x1b54c565910>"
      ]
     },
     "execution_count": 69,
     "metadata": {},
     "output_type": "execute_result"
    },
    {
     "data": {
      "image/png": "[encoded data removed]",
      "text/plain": [
       "<Figure size 640x480 with 1 Axes>"
      ]
     },
     "metadata": {},
     "output_type": "display_data"
    }
   ],
   "source": [
    "plt.scatter(df['income'], df['loan_status'])"
   ]
  },
  {
   "cell_type": "markdown",
   "metadata": {},
   "source": [
    "1. convert loan_status to binary\n",
    "2. normalizing the data scince it has really big values"
   ]
  },
  {
   "cell_type": "code",
   "execution_count": 70,
   "metadata": {},
   "outputs": [],
   "source": [
    "def sigmoid(x):\n",
    "    # print(1 + np.exp(-x))\n",
    "    return 1 / (1 + np.exp(-x))\n",
    "\n",
    "def logistic_func(theta, x):\n",
    "    # print(x)\n",
    "    # print(np.dot(x, theta))\n",
    "    return sigmoid(np.dot(x, theta))\n",
    "\n",
    "def cost_func(theta, x, y):\n",
    "    # Logistic regression cost function\n",
    "    m = x.shape[0]\n",
    "    logistic = logistic_func(theta, x)\n",
    "    cost = -(1/m) * np.sum(y * np.log(logistic + 1e-9) + (1 - y) * np.log(1 - logistic + 1e-9))\n",
    "    return cost\n",
    "\n",
    "def gradient(theta, x, y):\n",
    "    m = x.shape[0]\n",
    "    # print(r)\n",
    "    return (1/m) *  np.dot(x.T,  logistic_func(theta, x) - y)\n",
    "\n",
    "def fit(x, y, alpha=0.1, max_iter=200, eps=1e-6):\n",
    "    x = np.insert(x, 0, 1, axis=1)\n",
    "    # theta = np.zeros(x.shape[1])\n",
    "    # theta = np.random.rand(x.shape[1]) * 0.01\n",
    "    theta = np.array([0.3,0.4,0.0])\n",
    "    cost_history = []\n",
    "\n",
    "    for _ in range(max_iter):\n",
    "        grad = gradient(theta, x, y)\n",
    "        theta -= alpha * grad\n",
    "        new_cost = cost_func(theta, x, y)\n",
    "        cost_history.append(new_cost)\n",
    "        print(_, \"grad \",grad)\n",
    "        print(theta)\n",
    "\n",
    "    return theta, cost_history\n",
    "\n",
    "def predict(x, theta):\n",
    "    x = np.insert(x, 0, 1, axis=1)\n",
    "    return logistic_func(theta, x)\n",
    "\n",
    "def softmax(x):\n",
    "    return np.exp(x) / np.sum(np.exp(x), axis=1).reshape(-1, 1)"
   ]
  },
  {
   "cell_type": "code",
   "execution_count": 71,
   "metadata": {},
   "outputs": [],
   "source": [
    "df['loan_status_b'] = df['loan_status'].apply(lambda x: 0 if x == 'Denied' else 1)\n",
    "df['credit_score_n'] = (df['credit_score'] - df['credit_score'].min()) / (df['credit_score'].max() - df['credit_score'].min())\n",
    "df['income_n'] = (df['income'] - df['income'].min()) / (df['income'].max() - df['income'].min())\n"
   ]
  },
  {
   "cell_type": "markdown",
   "metadata": {},
   "source": [
    "## Logistic regresstion\n",
    "1. using the credit score and income as features\n",
    "2. Converting data to binary"
   ]
  },
  {
   "cell_type": "markdown",
   "metadata": {},
   "source": [
    "using the credit score and income as features"
   ]
  },
  {
   "cell_type": "code",
   "execution_count": 72,
   "metadata": {},
   "outputs": [],
   "source": [
    "x = df[['credit_score_n', 'income_n']].values\n",
    "y = df['loan_status_b'].values"
   ]
  },
  {
   "cell_type": "markdown",
   "metadata": {},
   "source": [
    "test train split"
   ]
  },
  {
   "cell_type": "code",
   "execution_count": 73,
   "metadata": {},
   "outputs": [],
   "source": [
    "from sklearn.model_selection import train_test_split\n",
    "x_train, x_test, y_train, y_test = train_test_split(x, y, test_size=0.2)"
   ]
  },
  {
   "cell_type": "code",
   "execution_count": 74,
   "metadata": {},
   "outputs": [
    {
     "name": "stdout",
     "output_type": "stream",
     "text": [
      "0 grad  [-0.14024445 -0.16619012 -0.1092546 ]\n",
      "[0.44024445 0.56619012 0.1092546 ]\n",
      "1 grad  [-0.07882753 -0.12682831 -0.08418284]\n",
      "[0.51907199 0.69301843 0.19343745]\n",
      "2 grad  [-0.04194841 -0.10312723 -0.06909942]\n",
      "[0.5610204  0.79614566 0.26253687]\n",
      "3 grad  [-0.01843854 -0.08787245 -0.05938841]\n",
      "[0.57945895 0.88401811 0.32192528]\n",
      "4 grad  [-0.00273736 -0.07750086 -0.05277526]\n",
      "[0.58219631 0.96151898 0.37470053]\n",
      "[0.58219631 0.96151898 0.37470053]\n"
     ]
    },
    {
     "data": {
      "text/plain": [
       "[<matplotlib.lines.Line2D at 0x1b54c8ec950>]"
      ]
     },
     "execution_count": 74,
     "metadata": {},
     "output_type": "execute_result"
    },
    {
     "data": {
      "image/png": "[encoded data removed]",
      "text/plain": [
       "<Figure size 640x480 with 1 Axes>"
      ]
     },
     "metadata": {},
     "output_type": "display_data"
    }
   ],
   "source": [
    "theta, history = fit(x_train, y_train, alpha=1, max_iter=5)\n",
    "\n",
    "print(theta)\n",
    "\n",
    "plt.plot(history)"
   ]
  },
  {
   "cell_type": "code",
   "execution_count": 75,
   "metadata": {},
   "outputs": [
    {
     "name": "stdout",
     "output_type": "stream",
     "text": [
      "[1. 1. 1. 1. 1. 1. 1. 1. 1. 1. 1. 1. 1.]\n",
      "accuracy :  0.6153846153846154\n"
     ]
    }
   ],
   "source": [
    "y_pred = predict(x_test, theta)\n",
    "\n",
    "y_pred = np.round(y_pred)\n",
    "print(y_pred)\n",
    "\n",
    "accuracy = np.mean(y_pred == y_test)\n",
    "print(\"accuracy : \", accuracy)"
   ]
  },
  {
   "cell_type": "markdown",
   "metadata": {},
   "source": [
    "## Multi Class Classification\n",
    "1. using the credit score and income as features\n",
    "2. Loan class prediction (Multi-class prediction, A/B/C): Credit Score > 750 = A, Credit Score > 650 and < 750 = B, Credit Score < 650 = C category. \n",
    "3. prepare the target variable\n",
    "\n",
    "4. one hot encoding the target variable do one hot encoding without using any library\n",
    "    - y0 is 1 for A, 0 for B and 0 for C\n",
    "    - y1 is 0 for A, 1 for B and 0 for C\n",
    "    - y2 is 0 for A, 0 for B and 1 for C\n"
   ]
  },
  {
   "cell_type": "code",
   "execution_count": 76,
   "metadata": {},
   "outputs": [],
   "source": [
    "x = df[['credit_score_n', 'income_n']].values\n",
    "y_cat = df['credit_score'].apply(lambda x: 'A' if x > 750 else 'B' if x > 650 else 'C').values\n",
    "\n",
    "y = np.zeros((y_cat.size, 3))\n",
    "for i in range(y_cat.size):\n",
    "    if y_cat[i] == 'A':\n",
    "        y[i, 0] = 1\n",
    "    elif y_cat[i] == 'B':\n",
    "        y[i, 1] = 1\n",
    "    else:\n",
    "        y[i, 2] = 1"
   ]
  },
  {
   "cell_type": "code",
   "execution_count": 77,
   "metadata": {},
   "outputs": [],
   "source": [
    "from sklearn.model_selection import train_test_split\n",
    "x_train, x_test, y_train, y_test = train_test_split(x, y, test_size=0.2)"
   ]
  },
  {
   "cell_type": "code",
   "execution_count": 78,
   "metadata": {},
   "outputs": [
    {
     "name": "stdout",
     "output_type": "stream",
     "text": [
      "0 grad  [0.27349149 0.05917487 0.01909948]\n",
      "[ 0.02650851  0.34082513 -0.01909948]\n",
      "1 grad  [ 0.19812497  0.01597444 -0.00863297]\n",
      "[-0.17161647  0.32485069 -0.01046651]\n",
      "2 grad  [ 0.14742886 -0.01251123 -0.02681586]\n",
      "[-0.31904532  0.33736192  0.01634936]\n",
      "3 grad  [ 0.11483486 -0.03012531 -0.03793215]\n",
      "[-0.43388018  0.36748723  0.0542815 ]\n",
      "4 grad  [ 0.0939728  -0.04069571 -0.04447035]\n",
      "[-0.52785299  0.40818294  0.09875185]\n",
      "[-0.52785299  0.40818294  0.09875185]\n",
      "0 grad  [0.27349149 0.15253907 0.11143819]\n",
      "[ 0.02650851  0.24746093 -0.11143819]\n",
      "1 grad  [0.17706309 0.09435437 0.07357529]\n",
      "[-0.15055458  0.15310657 -0.18501348]\n",
      "2 grad  [0.11313774 0.05561255 0.04833426]\n",
      "[-0.26369232  0.09749402 -0.23334774]\n",
      "3 grad  [0.07324523 0.03149552 0.03263332]\n",
      "[-0.33693755  0.06599851 -0.26598106]\n",
      "4 grad  [0.04839466 0.0165452  0.0229114 ]\n",
      "[-0.38533221  0.0494533  -0.28889246]\n",
      "[-0.38533221  0.0494533  -0.28889246]\n",
      "0 grad  [0.33599149 0.30454524 0.20189518]\n",
      "[-0.03599149  0.09545476 -0.20189518]\n",
      "1 grad  [0.19466561 0.21686523 0.14448316]\n",
      "[-0.2306571  -0.12141047 -0.34637834]\n",
      "2 grad  [0.10462663 0.16033917 0.1074128 ]\n",
      "[-0.33528374 -0.28174963 -0.45379114]\n",
      "3 grad  [0.0513727  0.12665    0.08534115]\n",
      "[-0.38665644 -0.40839963 -0.53913229]\n",
      "4 grad  [0.01896722 0.10583711 0.07170262]\n",
      "[-0.40562367 -0.51423674 -0.61083491]\n",
      "[-0.40562367 -0.51423674 -0.61083491]\n"
     ]
    },
    {
     "data": {
      "text/plain": [
       "[<matplotlib.lines.Line2D at 0x1b54c943680>]"
      ]
     },
     "execution_count": 78,
     "metadata": {},
     "output_type": "execute_result"
    },
    {
     "data": {
      "image/png": "[encoded data removed]",
      "text/plain": [
       "<Figure size 640x480 with 1 Axes>"
      ]
     },
     "metadata": {},
     "output_type": "display_data"
    }
   ],
   "source": [
    "theta_1, history = fit(x_train, y_train[:, 0], alpha=1, max_iter=5)\n",
    "print(theta_1)\n",
    "plt.plot(history)\n",
    "\n",
    "theta_2, history = fit(x_train, y_train[:, 1], alpha=1, max_iter=5)\n",
    "print(theta_2)\n",
    "plt.plot(history)\n",
    "\n",
    "theta_3, history = fit(x_train, y_train[:, 2], alpha=1, max_iter=5)\n",
    "print(theta_3)\n",
    "plt.plot(history)"
   ]
  },
  {
   "cell_type": "code",
   "execution_count": 79,
   "metadata": {},
   "outputs": [
    {
     "name": "stdout",
     "output_type": "stream",
     "text": [
      "Class A :  0.6666666666666666\n",
      "Class B :  0.6666666666666666\n",
      "Class C :  0.6666666666666666\n"
     ]
    }
   ],
   "source": [
    "y_pred_0 = predict(x_test, theta_1)\n",
    "y_pred_1 = predict(x_test, theta_2)\n",
    "y_pred_2 = predict(x_test, theta_3)\n",
    "\n",
    "y_pred =  np.round(np.array([y_pred_0, y_pred_1, y_pred_2]).T)\n",
    "\n",
    "accuracy = np.mean(y_pred[0] == y_test[0])\n",
    "print(\"Class A : \",accuracy)\n",
    "\n",
    "accuracy = np.mean(y_pred[1] == y_test[1])\n",
    "print(\"Class B : \",accuracy)\n",
    "\n",
    "accuracy = np.mean(y_pred[2] == y_test[2])\n",
    "print(\"Class C : \",accuracy)"
   ]
  },
  {
   "cell_type": "markdown",
   "metadata": {},
   "source": [
    "## Multi Label Classification\n",
    "using softmax at the end of the above multi class classification"
   ]
  },
  {
   "cell_type": "code",
   "execution_count": 80,
   "metadata": {},
   "outputs": [],
   "source": [
    "y_pred_0 = predict(x_test, theta_1)\n",
    "y_pred_1 = predict(x_test, theta_2)\n",
    "y_pred_2 = predict(x_test, theta_3)\n",
    "\n",
    "y_pred =  np.array([y_pred_0, y_pred_1, y_pred_2]).T\n",
    "y_pred = softmax(y_pred)\n",
    "\n",
    "y_pred = np.argmax(y_pred, axis=1)\n"
   ]
  },
  {
   "cell_type": "code",
   "execution_count": 81,
   "metadata": {},
   "outputs": [
    {
     "name": "stdout",
     "output_type": "stream",
     "text": [
      "pred :  0 test :  0 True\n",
      "pred :  0 test :  1 False\n",
      "pred :  1 test :  2 False\n",
      "pred :  0 test :  1 False\n",
      "pred :  0 test :  1 False\n",
      "pred :  0 test :  1 False\n",
      "pred :  0 test :  0 True\n",
      "pred :  0 test :  1 False\n",
      "pred :  0 test :  1 False\n",
      "pred :  0 test :  1 False\n",
      "pred :  0 test :  2 False\n",
      "pred :  0 test :  1 False\n",
      "pred :  0 test :  0 True\n"
     ]
    }
   ],
   "source": [
    "for i in range(y_pred.size):\n",
    "    print(\"pred : \",y_pred[i],\"test : \", np.argmax(y_test[i]), y_pred[i] == np.argmax(y_test[i]))"
   ]
  },
  {
   "cell_type": "code",
   "execution_count": null,
   "metadata": {},
   "outputs": [],
   "source": []
  }
 ],
 "metadata": {
  "kernelspec": {
   "display_name": "Python 3",
   "language": "python",
   "name": "python3"
  },
  "language_info": {
   "codemirror_mode": {
    "name": "ipython",
    "version": 3
   },
   "file_extension": ".py",
   "mimetype": "text/x-python",
   "name": "python",
   "nbconvert_exporter": "python",
   "pygments_lexer": "ipython3",
   "version": "3.12.4"
  }
 },
 "nbformat": 4,
 "nbformat_minor": 2
}
