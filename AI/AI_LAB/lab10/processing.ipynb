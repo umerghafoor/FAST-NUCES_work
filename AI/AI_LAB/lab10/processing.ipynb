{
 "cells": [
  {
   "cell_type": "markdown",
   "metadata": {},
   "source": [
    "Install missing libraries"
   ]
  },
  {
   "cell_type": "code",
   "execution_count": 2,
   "metadata": {},
   "outputs": [
    {
     "name": "stdout",
     "output_type": "stream",
     "text": [
      "Collecting scikit-learn\n",
      "  Downloading scikit_learn-1.5.2-cp312-cp312-win_amd64.whl.metadata (13 kB)\n",
      "Requirement already satisfied: numpy>=1.19.5 in c:\\users\\asus\\appdata\\local\\programs\\python\\python312\\lib\\site-packages (from scikit-learn) (2.1.0)\n",
      "Collecting scipy>=1.6.0 (from scikit-learn)\n",
      "  Downloading scipy-1.14.1-cp312-cp312-win_amd64.whl.metadata (60 kB)\n",
      "Collecting joblib>=1.2.0 (from scikit-learn)\n",
      "  Downloading joblib-1.4.2-py3-none-any.whl.metadata (5.4 kB)\n",
      "Collecting threadpoolctl>=3.1.0 (from scikit-learn)\n",
      "  Downloading threadpoolctl-3.5.0-py3-none-any.whl.metadata (13 kB)\n",
      "Downloading scikit_learn-1.5.2-cp312-cp312-win_amd64.whl (11.0 MB)\n",
      "   ---------------------------------------- 0.0/11.0 MB ? eta -:--:--\n",
      "   - -------------------------------------- 0.5/11.0 MB 5.6 MB/s eta 0:00:02\n",
      "   ---- ----------------------------------- 1.3/11.0 MB 4.5 MB/s eta 0:00:03\n",
      "   -------- ------------------------------- 2.4/11.0 MB 4.2 MB/s eta 0:00:03\n",
      "   ----------- ---------------------------- 3.1/11.0 MB 4.3 MB/s eta 0:00:02\n",
      "   -------------- ------------------------- 3.9/11.0 MB 4.2 MB/s eta 0:00:02\n",
      "   ------------------ --------------------- 5.0/11.0 MB 4.1 MB/s eta 0:00:02\n",
      "   -------------------- ------------------- 5.8/11.0 MB 4.1 MB/s eta 0:00:02\n",
      "   ------------------------ --------------- 6.8/11.0 MB 4.2 MB/s eta 0:00:01\n",
      "   ---------------------------- ----------- 7.9/11.0 MB 4.3 MB/s eta 0:00:01\n",
      "   -------------------------------- ------- 8.9/11.0 MB 4.3 MB/s eta 0:00:01\n",
      "   ---------------------------------- ----- 9.4/11.0 MB 4.3 MB/s eta 0:00:01\n",
      "   ------------------------------------- -- 10.2/11.0 MB 4.1 MB/s eta 0:00:01\n",
      "   ---------------------------------------- 11.0/11.0 MB 4.1 MB/s eta 0:00:00\n",
      "Downloading joblib-1.4.2-py3-none-any.whl (301 kB)\n",
      "Downloading scipy-1.14.1-cp312-cp312-win_amd64.whl (44.5 MB)\n",
      "   ---------------------------------------- 0.0/44.5 MB ? eta -:--:--\n",
      "    --------------------------------------- 0.8/44.5 MB 4.2 MB/s eta 0:00:11\n",
      "   - -------------------------------------- 1.6/44.5 MB 4.0 MB/s eta 0:00:11\n",
      "   -- ------------------------------------- 2.4/44.5 MB 3.9 MB/s eta 0:00:11\n",
      "   -- ------------------------------------- 3.1/44.5 MB 3.8 MB/s eta 0:00:11\n",
      "   --- ------------------------------------ 3.9/44.5 MB 3.8 MB/s eta 0:00:11\n",
      "   ---- ----------------------------------- 4.7/44.5 MB 3.7 MB/s eta 0:00:11\n",
      "   ---- ----------------------------------- 5.2/44.5 MB 3.6 MB/s eta 0:00:11\n",
      "   ----- ---------------------------------- 6.0/44.5 MB 3.7 MB/s eta 0:00:11\n",
      "   ------ --------------------------------- 6.8/44.5 MB 3.7 MB/s eta 0:00:11\n",
      "   ------ --------------------------------- 7.6/44.5 MB 3.6 MB/s eta 0:00:11\n",
      "   ------- -------------------------------- 8.1/44.5 MB 3.5 MB/s eta 0:00:11\n",
      "   -------- ------------------------------- 8.9/44.5 MB 3.5 MB/s eta 0:00:11\n",
      "   -------- ------------------------------- 9.7/44.5 MB 3.5 MB/s eta 0:00:10\n",
      "   --------- ------------------------------ 10.2/44.5 MB 3.5 MB/s eta 0:00:10\n",
      "   ---------- ----------------------------- 11.3/44.5 MB 3.5 MB/s eta 0:00:10\n",
      "   ---------- ----------------------------- 12.1/44.5 MB 3.6 MB/s eta 0:00:10\n",
      "   ----------- ---------------------------- 13.1/44.5 MB 3.7 MB/s eta 0:00:09\n",
      "   ------------ --------------------------- 14.2/44.5 MB 3.7 MB/s eta 0:00:09\n",
      "   ------------- -------------------------- 14.9/44.5 MB 3.7 MB/s eta 0:00:08\n",
      "   -------------- ------------------------- 15.7/44.5 MB 3.7 MB/s eta 0:00:08\n",
      "   -------------- ------------------------- 16.5/44.5 MB 3.7 MB/s eta 0:00:08\n",
      "   --------------- ------------------------ 17.0/44.5 MB 3.7 MB/s eta 0:00:08\n",
      "   ---------------- ----------------------- 17.8/44.5 MB 3.6 MB/s eta 0:00:08\n",
      "   ---------------- ----------------------- 18.6/44.5 MB 3.6 MB/s eta 0:00:08\n",
      "   ----------------- ---------------------- 19.1/44.5 MB 3.6 MB/s eta 0:00:07\n",
      "   ----------------- ---------------------- 19.9/44.5 MB 3.6 MB/s eta 0:00:07\n",
      "   ------------------ --------------------- 20.4/44.5 MB 3.6 MB/s eta 0:00:07\n",
      "   ------------------ --------------------- 21.0/44.5 MB 3.6 MB/s eta 0:00:07\n",
      "   ------------------- -------------------- 21.5/44.5 MB 3.5 MB/s eta 0:00:07\n",
      "   ------------------- -------------------- 21.8/44.5 MB 3.5 MB/s eta 0:00:07\n",
      "   -------------------- ------------------- 22.3/44.5 MB 3.4 MB/s eta 0:00:07\n",
      "   -------------------- ------------------- 22.8/44.5 MB 3.4 MB/s eta 0:00:07\n",
      "   -------------------- ------------------- 23.1/44.5 MB 3.3 MB/s eta 0:00:07\n",
      "   -------------------- ------------------- 23.3/44.5 MB 3.3 MB/s eta 0:00:07\n",
      "   --------------------- ------------------ 23.9/44.5 MB 3.2 MB/s eta 0:00:07\n",
      "   --------------------- ------------------ 24.1/44.5 MB 3.2 MB/s eta 0:00:07\n",
      "   ---------------------- ----------------- 24.6/44.5 MB 3.1 MB/s eta 0:00:07\n",
      "   ---------------------- ----------------- 25.2/44.5 MB 3.1 MB/s eta 0:00:07\n",
      "   ---------------------- ----------------- 25.4/44.5 MB 3.1 MB/s eta 0:00:07\n",
      "   ----------------------- ---------------- 26.0/44.5 MB 3.1 MB/s eta 0:00:07\n",
      "   ----------------------- ---------------- 26.5/44.5 MB 3.0 MB/s eta 0:00:06\n",
      "   ------------------------ --------------- 27.0/44.5 MB 3.0 MB/s eta 0:00:06\n",
      "   ------------------------ --------------- 27.3/44.5 MB 3.0 MB/s eta 0:00:06\n",
      "   ------------------------ --------------- 27.8/44.5 MB 3.0 MB/s eta 0:00:06\n",
      "   ------------------------- -------------- 28.3/44.5 MB 3.0 MB/s eta 0:00:06\n",
      "   ------------------------- -------------- 28.8/44.5 MB 3.0 MB/s eta 0:00:06\n",
      "   -------------------------- ------------- 29.4/44.5 MB 3.0 MB/s eta 0:00:06\n",
      "   -------------------------- ------------- 29.9/44.5 MB 2.9 MB/s eta 0:00:05\n",
      "   --------------------------- ------------ 30.4/44.5 MB 2.9 MB/s eta 0:00:05\n",
      "   --------------------------- ------------ 30.9/44.5 MB 2.9 MB/s eta 0:00:05\n",
      "   ---------------------------- ----------- 31.7/44.5 MB 2.9 MB/s eta 0:00:05\n",
      "   ---------------------------- ----------- 32.2/44.5 MB 2.9 MB/s eta 0:00:05\n",
      "   ----------------------------- ---------- 32.8/44.5 MB 2.9 MB/s eta 0:00:04\n",
      "   ------------------------------ --------- 33.6/44.5 MB 2.9 MB/s eta 0:00:04\n",
      "   ------------------------------ --------- 34.1/44.5 MB 2.9 MB/s eta 0:00:04\n",
      "   ------------------------------- -------- 34.6/44.5 MB 2.9 MB/s eta 0:00:04\n",
      "   ------------------------------- -------- 35.1/44.5 MB 2.9 MB/s eta 0:00:04\n",
      "   -------------------------------- ------- 35.9/44.5 MB 2.9 MB/s eta 0:00:03\n",
      "   -------------------------------- ------- 36.4/44.5 MB 2.9 MB/s eta 0:00:03\n",
      "   -------------------------------- ------- 36.7/44.5 MB 2.9 MB/s eta 0:00:03\n",
      "   --------------------------------- ------ 37.2/44.5 MB 2.9 MB/s eta 0:00:03\n",
      "   --------------------------------- ------ 37.5/44.5 MB 2.9 MB/s eta 0:00:03\n",
      "   ---------------------------------- ----- 38.0/44.5 MB 2.9 MB/s eta 0:00:03\n",
      "   ---------------------------------- ----- 38.3/44.5 MB 2.9 MB/s eta 0:00:03\n",
      "   ---------------------------------- ----- 38.5/44.5 MB 2.8 MB/s eta 0:00:03\n",
      "   ----------------------------------- ---- 39.1/44.5 MB 2.8 MB/s eta 0:00:02\n",
      "   ----------------------------------- ---- 39.6/44.5 MB 2.8 MB/s eta 0:00:02\n",
      "   ------------------------------------ --- 40.1/44.5 MB 2.8 MB/s eta 0:00:02\n",
      "   ------------------------------------ --- 40.9/44.5 MB 2.8 MB/s eta 0:00:02\n",
      "   ------------------------------------- -- 41.4/44.5 MB 2.8 MB/s eta 0:00:02\n",
      "   ------------------------------------- -- 41.9/44.5 MB 2.8 MB/s eta 0:00:01\n",
      "   -------------------------------------- - 42.5/44.5 MB 2.8 MB/s eta 0:00:01\n",
      "   -------------------------------------- - 43.3/44.5 MB 2.8 MB/s eta 0:00:01\n",
      "   ---------------------------------------  44.0/44.5 MB 2.8 MB/s eta 0:00:01\n",
      "   ---------------------------------------- 44.5/44.5 MB 2.8 MB/s eta 0:00:00\n",
      "Downloading threadpoolctl-3.5.0-py3-none-any.whl (18 kB)\n",
      "Installing collected packages: threadpoolctl, scipy, joblib, scikit-learn\n",
      "Successfully installed joblib-1.4.2 scikit-learn-1.5.2 scipy-1.14.1 threadpoolctl-3.5.0\n",
      "Note: you may need to restart the kernel to use updated packages.\n"
     ]
    },
    {
     "name": "stderr",
     "output_type": "stream",
     "text": [
      "\n",
      "[notice] A new release of pip is available: 24.2 -> 24.3.1\n",
      "[notice] To update, run: python.exe -m pip install --upgrade pip\n"
     ]
    }
   ],
   "source": [
    "pip install scikit-learn"
   ]
  },
  {
   "cell_type": "markdown",
   "metadata": {},
   "source": [
    "## import required libraries"
   ]
  },
  {
   "cell_type": "code",
   "execution_count": 1,
   "metadata": {},
   "outputs": [],
   "source": [
    "import pandas as pd\n",
    "import numpy as np\n",
    "from sklearn.preprocessing import StandardScaler,MinMaxScaler,OrdinalEncoder,OneHotEncoder\n",
    "from sklearn.impute import SimpleImputer"
   ]
  },
  {
   "cell_type": "markdown",
   "metadata": {},
   "source": [
    "Load dataset"
   ]
  },
  {
   "cell_type": "code",
   "execution_count": 51,
   "metadata": {},
   "outputs": [],
   "source": [
    "df = pd.read_csv('./Sample_Data.csv')\n"
   ]
  },
  {
   "cell_type": "code",
   "execution_count": 52,
   "metadata": {},
   "outputs": [
    {
     "data": {
      "text/html": [
       "<div>\n",
       "<style scoped>\n",
       "    .dataframe tbody tr th:only-of-type {\n",
       "        vertical-align: middle;\n",
       "    }\n",
       "\n",
       "    .dataframe tbody tr th {\n",
       "        vertical-align: top;\n",
       "    }\n",
       "\n",
       "    .dataframe thead th {\n",
       "        text-align: right;\n",
       "    }\n",
       "</style>\n",
       "<table border=\"1\" class=\"dataframe\">\n",
       "  <thead>\n",
       "    <tr style=\"text-align: right;\">\n",
       "      <th></th>\n",
       "      <th>Country</th>\n",
       "      <th>Age</th>\n",
       "      <th>Salary</th>\n",
       "      <th>Purchased</th>\n",
       "    </tr>\n",
       "  </thead>\n",
       "  <tbody>\n",
       "    <tr>\n",
       "      <th>0</th>\n",
       "      <td>France</td>\n",
       "      <td>44.0</td>\n",
       "      <td>72000.0</td>\n",
       "      <td>No</td>\n",
       "    </tr>\n",
       "    <tr>\n",
       "      <th>1</th>\n",
       "      <td>Spain</td>\n",
       "      <td>27.0</td>\n",
       "      <td>48000.0</td>\n",
       "      <td>Yes</td>\n",
       "    </tr>\n",
       "    <tr>\n",
       "      <th>2</th>\n",
       "      <td>Germany</td>\n",
       "      <td>30.0</td>\n",
       "      <td>54000.0</td>\n",
       "      <td>No</td>\n",
       "    </tr>\n",
       "    <tr>\n",
       "      <th>3</th>\n",
       "      <td>Spain</td>\n",
       "      <td>38.0</td>\n",
       "      <td>61000.0</td>\n",
       "      <td>No</td>\n",
       "    </tr>\n",
       "    <tr>\n",
       "      <th>4</th>\n",
       "      <td>Germany</td>\n",
       "      <td>40.0</td>\n",
       "      <td>NaN</td>\n",
       "      <td>Yes</td>\n",
       "    </tr>\n",
       "    <tr>\n",
       "      <th>5</th>\n",
       "      <td>France</td>\n",
       "      <td>35.0</td>\n",
       "      <td>58000.0</td>\n",
       "      <td>Yes</td>\n",
       "    </tr>\n",
       "    <tr>\n",
       "      <th>6</th>\n",
       "      <td>Spain</td>\n",
       "      <td>NaN</td>\n",
       "      <td>52000.0</td>\n",
       "      <td>No</td>\n",
       "    </tr>\n",
       "    <tr>\n",
       "      <th>7</th>\n",
       "      <td>France</td>\n",
       "      <td>48.0</td>\n",
       "      <td>79000.0</td>\n",
       "      <td>Yes</td>\n",
       "    </tr>\n",
       "    <tr>\n",
       "      <th>8</th>\n",
       "      <td>Germany</td>\n",
       "      <td>50.0</td>\n",
       "      <td>83000.0</td>\n",
       "      <td>No</td>\n",
       "    </tr>\n",
       "    <tr>\n",
       "      <th>9</th>\n",
       "      <td>France</td>\n",
       "      <td>37.0</td>\n",
       "      <td>67000.0</td>\n",
       "      <td>Yes</td>\n",
       "    </tr>\n",
       "  </tbody>\n",
       "</table>\n",
       "</div>"
      ],
      "text/plain": [
       "   Country   Age   Salary Purchased\n",
       "0   France  44.0  72000.0        No\n",
       "1    Spain  27.0  48000.0       Yes\n",
       "2  Germany  30.0  54000.0        No\n",
       "3    Spain  38.0  61000.0        No\n",
       "4  Germany  40.0      NaN       Yes\n",
       "5   France  35.0  58000.0       Yes\n",
       "6    Spain   NaN  52000.0        No\n",
       "7   France  48.0  79000.0       Yes\n",
       "8  Germany  50.0  83000.0        No\n",
       "9   France  37.0  67000.0       Yes"
      ]
     },
     "execution_count": 52,
     "metadata": {},
     "output_type": "execute_result"
    }
   ],
   "source": [
    "df"
   ]
  },
  {
   "cell_type": "markdown",
   "metadata": {},
   "source": [
    "Correlation analysis between the numerical columns      "
   ]
  },
  {
   "cell_type": "code",
   "execution_count": 6,
   "metadata": {},
   "outputs": [
    {
     "data": {
      "text/html": [
       "<div>\n",
       "<style scoped>\n",
       "    .dataframe tbody tr th:only-of-type {\n",
       "        vertical-align: middle;\n",
       "    }\n",
       "\n",
       "    .dataframe tbody tr th {\n",
       "        vertical-align: top;\n",
       "    }\n",
       "\n",
       "    .dataframe thead th {\n",
       "        text-align: right;\n",
       "    }\n",
       "</style>\n",
       "<table border=\"1\" class=\"dataframe\">\n",
       "  <thead>\n",
       "    <tr style=\"text-align: right;\">\n",
       "      <th></th>\n",
       "      <th>Age</th>\n",
       "      <th>Salary</th>\n",
       "    </tr>\n",
       "  </thead>\n",
       "  <tbody>\n",
       "    <tr>\n",
       "      <th>Age</th>\n",
       "      <td>1.000000</td>\n",
       "      <td>0.982495</td>\n",
       "    </tr>\n",
       "    <tr>\n",
       "      <th>Salary</th>\n",
       "      <td>0.982495</td>\n",
       "      <td>1.000000</td>\n",
       "    </tr>\n",
       "  </tbody>\n",
       "</table>\n",
       "</div>"
      ],
      "text/plain": [
       "             Age    Salary\n",
       "Age     1.000000  0.982495\n",
       "Salary  0.982495  1.000000"
      ]
     },
     "execution_count": 6,
     "metadata": {},
     "output_type": "execute_result"
    }
   ],
   "source": [
    "df.corr(numeric_only=True)\n"
   ]
  },
  {
   "cell_type": "markdown",
   "metadata": {},
   "source": [
    "Check for missing values"
   ]
  },
  {
   "cell_type": "code",
   "execution_count": 53,
   "metadata": {},
   "outputs": [
    {
     "data": {
      "text/plain": [
       "Country      0\n",
       "Age          1\n",
       "Salary       1\n",
       "Purchased    0\n",
       "dtype: int64"
      ]
     },
     "execution_count": 53,
     "metadata": {},
     "output_type": "execute_result"
    }
   ],
   "source": [
    "df.isnull().sum()\n"
   ]
  },
  {
   "cell_type": "markdown",
   "metadata": {},
   "source": [
    "Impute Missing Values with Constant Value. We will impute Missing Values with Constant Value"
   ]
  },
  {
   "cell_type": "code",
   "execution_count": 54,
   "metadata": {},
   "outputs": [],
   "source": [
    "Imputer = SimpleImputer(missing_values=np.nan,strategy='constant',fill_value=0)\n"
   ]
  },
  {
   "cell_type": "markdown",
   "metadata": {},
   "source": [
    "Fill missing values in specific columns with the constant value defined above."
   ]
  },
  {
   "cell_type": "code",
   "execution_count": 55,
   "metadata": {},
   "outputs": [],
   "source": [
    "df.iloc[:,1:3]=Imputer.fit_transform(df.iloc[:,1:3])\n"
   ]
  },
  {
   "cell_type": "code",
   "execution_count": 56,
   "metadata": {},
   "outputs": [
    {
     "data": {
      "text/html": [
       "<div>\n",
       "<style scoped>\n",
       "    .dataframe tbody tr th:only-of-type {\n",
       "        vertical-align: middle;\n",
       "    }\n",
       "\n",
       "    .dataframe tbody tr th {\n",
       "        vertical-align: top;\n",
       "    }\n",
       "\n",
       "    .dataframe thead th {\n",
       "        text-align: right;\n",
       "    }\n",
       "</style>\n",
       "<table border=\"1\" class=\"dataframe\">\n",
       "  <thead>\n",
       "    <tr style=\"text-align: right;\">\n",
       "      <th></th>\n",
       "      <th>Country</th>\n",
       "      <th>Age</th>\n",
       "      <th>Salary</th>\n",
       "      <th>Purchased</th>\n",
       "    </tr>\n",
       "  </thead>\n",
       "  <tbody>\n",
       "    <tr>\n",
       "      <th>0</th>\n",
       "      <td>France</td>\n",
       "      <td>44.0</td>\n",
       "      <td>72000.0</td>\n",
       "      <td>No</td>\n",
       "    </tr>\n",
       "    <tr>\n",
       "      <th>1</th>\n",
       "      <td>Spain</td>\n",
       "      <td>27.0</td>\n",
       "      <td>48000.0</td>\n",
       "      <td>Yes</td>\n",
       "    </tr>\n",
       "    <tr>\n",
       "      <th>2</th>\n",
       "      <td>Germany</td>\n",
       "      <td>30.0</td>\n",
       "      <td>54000.0</td>\n",
       "      <td>No</td>\n",
       "    </tr>\n",
       "    <tr>\n",
       "      <th>3</th>\n",
       "      <td>Spain</td>\n",
       "      <td>38.0</td>\n",
       "      <td>61000.0</td>\n",
       "      <td>No</td>\n",
       "    </tr>\n",
       "    <tr>\n",
       "      <th>4</th>\n",
       "      <td>Germany</td>\n",
       "      <td>40.0</td>\n",
       "      <td>0.0</td>\n",
       "      <td>Yes</td>\n",
       "    </tr>\n",
       "    <tr>\n",
       "      <th>5</th>\n",
       "      <td>France</td>\n",
       "      <td>35.0</td>\n",
       "      <td>58000.0</td>\n",
       "      <td>Yes</td>\n",
       "    </tr>\n",
       "    <tr>\n",
       "      <th>6</th>\n",
       "      <td>Spain</td>\n",
       "      <td>0.0</td>\n",
       "      <td>52000.0</td>\n",
       "      <td>No</td>\n",
       "    </tr>\n",
       "    <tr>\n",
       "      <th>7</th>\n",
       "      <td>France</td>\n",
       "      <td>48.0</td>\n",
       "      <td>79000.0</td>\n",
       "      <td>Yes</td>\n",
       "    </tr>\n",
       "    <tr>\n",
       "      <th>8</th>\n",
       "      <td>Germany</td>\n",
       "      <td>50.0</td>\n",
       "      <td>83000.0</td>\n",
       "      <td>No</td>\n",
       "    </tr>\n",
       "    <tr>\n",
       "      <th>9</th>\n",
       "      <td>France</td>\n",
       "      <td>37.0</td>\n",
       "      <td>67000.0</td>\n",
       "      <td>Yes</td>\n",
       "    </tr>\n",
       "  </tbody>\n",
       "</table>\n",
       "</div>"
      ],
      "text/plain": [
       "   Country   Age   Salary Purchased\n",
       "0   France  44.0  72000.0        No\n",
       "1    Spain  27.0  48000.0       Yes\n",
       "2  Germany  30.0  54000.0        No\n",
       "3    Spain  38.0  61000.0        No\n",
       "4  Germany  40.0      0.0       Yes\n",
       "5   France  35.0  58000.0       Yes\n",
       "6    Spain   0.0  52000.0        No\n",
       "7   France  48.0  79000.0       Yes\n",
       "8  Germany  50.0  83000.0        No\n",
       "9   France  37.0  67000.0       Yes"
      ]
     },
     "execution_count": 56,
     "metadata": {},
     "output_type": "execute_result"
    }
   ],
   "source": [
    "df"
   ]
  },
  {
   "cell_type": "markdown",
   "metadata": {},
   "source": [
    "Impute Missing Values with Mean"
   ]
  },
  {
   "cell_type": "code",
   "execution_count": 11,
   "metadata": {},
   "outputs": [],
   "source": [
    "Imputer=SimpleImputer(missing_values=np.nan,strategy='mean')\n"
   ]
  },
  {
   "cell_type": "markdown",
   "metadata": {},
   "source": [
    "Apply Mean Imputation"
   ]
  },
  {
   "cell_type": "code",
   "execution_count": 57,
   "metadata": {},
   "outputs": [],
   "source": [
    "df.iloc[:,1:3]=Imputer.fit_transform(df.iloc[:,1:3])\n"
   ]
  },
  {
   "cell_type": "code",
   "execution_count": 60,
   "metadata": {},
   "outputs": [
    {
     "data": {
      "text/html": [
       "<div>\n",
       "<style scoped>\n",
       "    .dataframe tbody tr th:only-of-type {\n",
       "        vertical-align: middle;\n",
       "    }\n",
       "\n",
       "    .dataframe tbody tr th {\n",
       "        vertical-align: top;\n",
       "    }\n",
       "\n",
       "    .dataframe thead th {\n",
       "        text-align: right;\n",
       "    }\n",
       "</style>\n",
       "<table border=\"1\" class=\"dataframe\">\n",
       "  <thead>\n",
       "    <tr style=\"text-align: right;\">\n",
       "      <th></th>\n",
       "      <th>Country</th>\n",
       "      <th>Age</th>\n",
       "      <th>Salary</th>\n",
       "      <th>Purchased</th>\n",
       "    </tr>\n",
       "  </thead>\n",
       "  <tbody>\n",
       "    <tr>\n",
       "      <th>0</th>\n",
       "      <td>France</td>\n",
       "      <td>0.88</td>\n",
       "      <td>0.867470</td>\n",
       "      <td>No</td>\n",
       "    </tr>\n",
       "    <tr>\n",
       "      <th>1</th>\n",
       "      <td>Spain</td>\n",
       "      <td>0.54</td>\n",
       "      <td>0.578313</td>\n",
       "      <td>Yes</td>\n",
       "    </tr>\n",
       "    <tr>\n",
       "      <th>2</th>\n",
       "      <td>Germany</td>\n",
       "      <td>0.60</td>\n",
       "      <td>0.650602</td>\n",
       "      <td>No</td>\n",
       "    </tr>\n",
       "    <tr>\n",
       "      <th>3</th>\n",
       "      <td>Spain</td>\n",
       "      <td>0.76</td>\n",
       "      <td>0.734940</td>\n",
       "      <td>No</td>\n",
       "    </tr>\n",
       "    <tr>\n",
       "      <th>4</th>\n",
       "      <td>Germany</td>\n",
       "      <td>0.80</td>\n",
       "      <td>0.000000</td>\n",
       "      <td>Yes</td>\n",
       "    </tr>\n",
       "    <tr>\n",
       "      <th>5</th>\n",
       "      <td>France</td>\n",
       "      <td>0.70</td>\n",
       "      <td>0.698795</td>\n",
       "      <td>Yes</td>\n",
       "    </tr>\n",
       "    <tr>\n",
       "      <th>6</th>\n",
       "      <td>Spain</td>\n",
       "      <td>0.00</td>\n",
       "      <td>0.626506</td>\n",
       "      <td>No</td>\n",
       "    </tr>\n",
       "    <tr>\n",
       "      <th>7</th>\n",
       "      <td>France</td>\n",
       "      <td>0.96</td>\n",
       "      <td>0.951807</td>\n",
       "      <td>Yes</td>\n",
       "    </tr>\n",
       "    <tr>\n",
       "      <th>8</th>\n",
       "      <td>Germany</td>\n",
       "      <td>1.00</td>\n",
       "      <td>1.000000</td>\n",
       "      <td>No</td>\n",
       "    </tr>\n",
       "    <tr>\n",
       "      <th>9</th>\n",
       "      <td>France</td>\n",
       "      <td>0.74</td>\n",
       "      <td>0.807229</td>\n",
       "      <td>Yes</td>\n",
       "    </tr>\n",
       "  </tbody>\n",
       "</table>\n",
       "</div>"
      ],
      "text/plain": [
       "   Country   Age    Salary Purchased\n",
       "0   France  0.88  0.867470        No\n",
       "1    Spain  0.54  0.578313       Yes\n",
       "2  Germany  0.60  0.650602        No\n",
       "3    Spain  0.76  0.734940        No\n",
       "4  Germany  0.80  0.000000       Yes\n",
       "5   France  0.70  0.698795       Yes\n",
       "6    Spain  0.00  0.626506        No\n",
       "7   France  0.96  0.951807       Yes\n",
       "8  Germany  1.00  1.000000        No\n",
       "9   France  0.74  0.807229       Yes"
      ]
     },
     "execution_count": 60,
     "metadata": {},
     "output_type": "execute_result"
    }
   ],
   "source": [
    "df\n"
   ]
  },
  {
   "cell_type": "code",
   "execution_count": 58,
   "metadata": {},
   "outputs": [],
   "source": [
    "MinMax=MinMaxScaler()\n",
    "df.iloc[:,1:3]=MinMax.fit_transform(df.iloc[:,1:3])"
   ]
  },
  {
   "cell_type": "code",
   "execution_count": 59,
   "metadata": {},
   "outputs": [
    {
     "data": {
      "text/html": [
       "<div>\n",
       "<style scoped>\n",
       "    .dataframe tbody tr th:only-of-type {\n",
       "        vertical-align: middle;\n",
       "    }\n",
       "\n",
       "    .dataframe tbody tr th {\n",
       "        vertical-align: top;\n",
       "    }\n",
       "\n",
       "    .dataframe thead th {\n",
       "        text-align: right;\n",
       "    }\n",
       "</style>\n",
       "<table border=\"1\" class=\"dataframe\">\n",
       "  <thead>\n",
       "    <tr style=\"text-align: right;\">\n",
       "      <th></th>\n",
       "      <th>Country</th>\n",
       "      <th>Age</th>\n",
       "      <th>Salary</th>\n",
       "      <th>Purchased</th>\n",
       "    </tr>\n",
       "  </thead>\n",
       "  <tbody>\n",
       "    <tr>\n",
       "      <th>0</th>\n",
       "      <td>France</td>\n",
       "      <td>0.88</td>\n",
       "      <td>0.867470</td>\n",
       "      <td>No</td>\n",
       "    </tr>\n",
       "    <tr>\n",
       "      <th>1</th>\n",
       "      <td>Spain</td>\n",
       "      <td>0.54</td>\n",
       "      <td>0.578313</td>\n",
       "      <td>Yes</td>\n",
       "    </tr>\n",
       "    <tr>\n",
       "      <th>2</th>\n",
       "      <td>Germany</td>\n",
       "      <td>0.60</td>\n",
       "      <td>0.650602</td>\n",
       "      <td>No</td>\n",
       "    </tr>\n",
       "    <tr>\n",
       "      <th>3</th>\n",
       "      <td>Spain</td>\n",
       "      <td>0.76</td>\n",
       "      <td>0.734940</td>\n",
       "      <td>No</td>\n",
       "    </tr>\n",
       "    <tr>\n",
       "      <th>4</th>\n",
       "      <td>Germany</td>\n",
       "      <td>0.80</td>\n",
       "      <td>0.000000</td>\n",
       "      <td>Yes</td>\n",
       "    </tr>\n",
       "    <tr>\n",
       "      <th>5</th>\n",
       "      <td>France</td>\n",
       "      <td>0.70</td>\n",
       "      <td>0.698795</td>\n",
       "      <td>Yes</td>\n",
       "    </tr>\n",
       "    <tr>\n",
       "      <th>6</th>\n",
       "      <td>Spain</td>\n",
       "      <td>0.00</td>\n",
       "      <td>0.626506</td>\n",
       "      <td>No</td>\n",
       "    </tr>\n",
       "    <tr>\n",
       "      <th>7</th>\n",
       "      <td>France</td>\n",
       "      <td>0.96</td>\n",
       "      <td>0.951807</td>\n",
       "      <td>Yes</td>\n",
       "    </tr>\n",
       "    <tr>\n",
       "      <th>8</th>\n",
       "      <td>Germany</td>\n",
       "      <td>1.00</td>\n",
       "      <td>1.000000</td>\n",
       "      <td>No</td>\n",
       "    </tr>\n",
       "    <tr>\n",
       "      <th>9</th>\n",
       "      <td>France</td>\n",
       "      <td>0.74</td>\n",
       "      <td>0.807229</td>\n",
       "      <td>Yes</td>\n",
       "    </tr>\n",
       "  </tbody>\n",
       "</table>\n",
       "</div>"
      ],
      "text/plain": [
       "   Country   Age    Salary Purchased\n",
       "0   France  0.88  0.867470        No\n",
       "1    Spain  0.54  0.578313       Yes\n",
       "2  Germany  0.60  0.650602        No\n",
       "3    Spain  0.76  0.734940        No\n",
       "4  Germany  0.80  0.000000       Yes\n",
       "5   France  0.70  0.698795       Yes\n",
       "6    Spain  0.00  0.626506        No\n",
       "7   France  0.96  0.951807       Yes\n",
       "8  Germany  1.00  1.000000        No\n",
       "9   France  0.74  0.807229       Yes"
      ]
     },
     "execution_count": 59,
     "metadata": {},
     "output_type": "execute_result"
    }
   ],
   "source": [
    "df"
   ]
  },
  {
   "cell_type": "markdown",
   "metadata": {},
   "source": [
    "Scales selected columns to a 0-1 range using Min-Max scaling."
   ]
  },
  {
   "cell_type": "code",
   "execution_count": 61,
   "metadata": {},
   "outputs": [],
   "source": [
    "St = StandardScaler()\n",
    "df.iloc[:,1:3]=St.fit_transform(df.iloc[:,1:3])"
   ]
  },
  {
   "cell_type": "code",
   "execution_count": 18,
   "metadata": {},
   "outputs": [
    {
     "data": {
      "text/html": [
       "<div>\n",
       "<style scoped>\n",
       "    .dataframe tbody tr th:only-of-type {\n",
       "        vertical-align: middle;\n",
       "    }\n",
       "\n",
       "    .dataframe tbody tr th {\n",
       "        vertical-align: top;\n",
       "    }\n",
       "\n",
       "    .dataframe thead th {\n",
       "        text-align: right;\n",
       "    }\n",
       "</style>\n",
       "<table border=\"1\" class=\"dataframe\">\n",
       "  <thead>\n",
       "    <tr style=\"text-align: right;\">\n",
       "      <th></th>\n",
       "      <th>Country</th>\n",
       "      <th>Age</th>\n",
       "      <th>Salary</th>\n",
       "      <th>Purchased</th>\n",
       "    </tr>\n",
       "  </thead>\n",
       "  <tbody>\n",
       "    <tr>\n",
       "      <th>0</th>\n",
       "      <td>France</td>\n",
       "      <td>0.673262</td>\n",
       "      <td>0.661970</td>\n",
       "      <td>No</td>\n",
       "    </tr>\n",
       "    <tr>\n",
       "      <th>1</th>\n",
       "      <td>Spain</td>\n",
       "      <td>-0.584480</td>\n",
       "      <td>-0.426200</td>\n",
       "      <td>Yes</td>\n",
       "    </tr>\n",
       "    <tr>\n",
       "      <th>2</th>\n",
       "      <td>Germany</td>\n",
       "      <td>-0.362526</td>\n",
       "      <td>-0.154157</td>\n",
       "      <td>No</td>\n",
       "    </tr>\n",
       "    <tr>\n",
       "      <th>3</th>\n",
       "      <td>Spain</td>\n",
       "      <td>0.229353</td>\n",
       "      <td>0.163225</td>\n",
       "      <td>No</td>\n",
       "    </tr>\n",
       "    <tr>\n",
       "      <th>4</th>\n",
       "      <td>Germany</td>\n",
       "      <td>0.377323</td>\n",
       "      <td>-2.602539</td>\n",
       "      <td>Yes</td>\n",
       "    </tr>\n",
       "    <tr>\n",
       "      <th>5</th>\n",
       "      <td>France</td>\n",
       "      <td>0.007398</td>\n",
       "      <td>0.027204</td>\n",
       "      <td>Yes</td>\n",
       "    </tr>\n",
       "    <tr>\n",
       "      <th>6</th>\n",
       "      <td>Spain</td>\n",
       "      <td>-2.582070</td>\n",
       "      <td>-0.244838</td>\n",
       "      <td>No</td>\n",
       "    </tr>\n",
       "    <tr>\n",
       "      <th>7</th>\n",
       "      <td>France</td>\n",
       "      <td>0.969201</td>\n",
       "      <td>0.979353</td>\n",
       "      <td>Yes</td>\n",
       "    </tr>\n",
       "    <tr>\n",
       "      <th>8</th>\n",
       "      <td>Germany</td>\n",
       "      <td>1.117171</td>\n",
       "      <td>1.160714</td>\n",
       "      <td>No</td>\n",
       "    </tr>\n",
       "    <tr>\n",
       "      <th>9</th>\n",
       "      <td>France</td>\n",
       "      <td>0.155368</td>\n",
       "      <td>0.435268</td>\n",
       "      <td>Yes</td>\n",
       "    </tr>\n",
       "  </tbody>\n",
       "</table>\n",
       "</div>"
      ],
      "text/plain": [
       "   Country       Age    Salary Purchased\n",
       "0   France  0.673262  0.661970        No\n",
       "1    Spain -0.584480 -0.426200       Yes\n",
       "2  Germany -0.362526 -0.154157        No\n",
       "3    Spain  0.229353  0.163225        No\n",
       "4  Germany  0.377323 -2.602539       Yes\n",
       "5   France  0.007398  0.027204       Yes\n",
       "6    Spain -2.582070 -0.244838        No\n",
       "7   France  0.969201  0.979353       Yes\n",
       "8  Germany  1.117171  1.160714        No\n",
       "9   France  0.155368  0.435268       Yes"
      ]
     },
     "execution_count": 18,
     "metadata": {},
     "output_type": "execute_result"
    }
   ],
   "source": [
    "df"
   ]
  },
  {
   "cell_type": "markdown",
   "metadata": {},
   "source": [
    "Calculates the skewness of numerical columns to check for asymmetry."
   ]
  },
  {
   "cell_type": "code",
   "execution_count": 37,
   "metadata": {},
   "outputs": [
    {
     "data": {
      "text/plain": [
       "Age      -1.753019\n",
       "Salary   -1.760196\n",
       "dtype: float64"
      ]
     },
     "execution_count": 37,
     "metadata": {},
     "output_type": "execute_result"
    }
   ],
   "source": [
    "df.skew(numeric_only=True)"
   ]
  },
  {
   "cell_type": "markdown",
   "metadata": {},
   "source": [
    "Calculates the kurtosis to measure the tailedness of numerical columns.\n",
    "Kurtosis is a statistical measure that describes the shape of a data distribution, particularly the extremity of its tails. Unlike skewness, which indicates the symmetry or asymmetry of a distribution, kurtosis focuses on the presence and size of outliers."
   ]
  },
  {
   "cell_type": "code",
   "execution_count": 39,
   "metadata": {},
   "outputs": [
    {
     "data": {
      "text/plain": [
       "Age       4.014398\n",
       "Salary    4.301502\n",
       "dtype: float64"
      ]
     },
     "execution_count": 39,
     "metadata": {},
     "output_type": "execute_result"
    }
   ],
   "source": [
    "df.kurtosis(numeric_only=True)\n"
   ]
  },
  {
   "cell_type": "markdown",
   "metadata": {},
   "source": [
    "Encodes categorical values in specific columns with ordinal values. Ordinal Encoding is a technique used to convert categorical (non-numeric) data into numeric values by assigning a unique integer to each category. This encoding is particularly suitable when the categorical data has an inherent order or ranking. For example, categories like “low,” “medium,” and “high” can be represented numerically as 0, 1, and 2, respectively, because there is an order from low to high."
   ]
  },
  {
   "cell_type": "code",
   "execution_count": 62,
   "metadata": {},
   "outputs": [
    {
     "data": {
      "text/plain": [
       "RangeIndex(start=0, stop=10, step=1)"
      ]
     },
     "execution_count": 62,
     "metadata": {},
     "output_type": "execute_result"
    }
   ],
   "source": [
    "Ordinal = OrdinalEncoder()\n",
    "df.iloc[:,[0,3]]=Ordinal.fit_transform(df.iloc[:,[0,3]])\n",
    "df.index"
   ]
  },
  {
   "cell_type": "markdown",
   "metadata": {},
   "source": [
    "One-Hot Encoding to convert categorical columns into binary columns."
   ]
  },
  {
   "cell_type": "code",
   "execution_count": 63,
   "metadata": {},
   "outputs": [
    {
     "data": {
      "text/html": [
       "<div>\n",
       "<style scoped>\n",
       "    .dataframe tbody tr th:only-of-type {\n",
       "        vertical-align: middle;\n",
       "    }\n",
       "\n",
       "    .dataframe tbody tr th {\n",
       "        vertical-align: top;\n",
       "    }\n",
       "\n",
       "    .dataframe thead th {\n",
       "        text-align: right;\n",
       "    }\n",
       "</style>\n",
       "<table border=\"1\" class=\"dataframe\">\n",
       "  <thead>\n",
       "    <tr style=\"text-align: right;\">\n",
       "      <th></th>\n",
       "      <th>0</th>\n",
       "      <th>1</th>\n",
       "      <th>2</th>\n",
       "      <th>3</th>\n",
       "      <th>4</th>\n",
       "    </tr>\n",
       "  </thead>\n",
       "  <tbody>\n",
       "    <tr>\n",
       "      <th>0</th>\n",
       "      <td>1.0</td>\n",
       "      <td>0.0</td>\n",
       "      <td>0.0</td>\n",
       "      <td>1.0</td>\n",
       "      <td>0.0</td>\n",
       "    </tr>\n",
       "    <tr>\n",
       "      <th>1</th>\n",
       "      <td>0.0</td>\n",
       "      <td>0.0</td>\n",
       "      <td>1.0</td>\n",
       "      <td>0.0</td>\n",
       "      <td>1.0</td>\n",
       "    </tr>\n",
       "    <tr>\n",
       "      <th>2</th>\n",
       "      <td>0.0</td>\n",
       "      <td>1.0</td>\n",
       "      <td>0.0</td>\n",
       "      <td>1.0</td>\n",
       "      <td>0.0</td>\n",
       "    </tr>\n",
       "    <tr>\n",
       "      <th>3</th>\n",
       "      <td>0.0</td>\n",
       "      <td>0.0</td>\n",
       "      <td>1.0</td>\n",
       "      <td>1.0</td>\n",
       "      <td>0.0</td>\n",
       "    </tr>\n",
       "    <tr>\n",
       "      <th>4</th>\n",
       "      <td>0.0</td>\n",
       "      <td>1.0</td>\n",
       "      <td>0.0</td>\n",
       "      <td>0.0</td>\n",
       "      <td>1.0</td>\n",
       "    </tr>\n",
       "    <tr>\n",
       "      <th>5</th>\n",
       "      <td>1.0</td>\n",
       "      <td>0.0</td>\n",
       "      <td>0.0</td>\n",
       "      <td>0.0</td>\n",
       "      <td>1.0</td>\n",
       "    </tr>\n",
       "    <tr>\n",
       "      <th>6</th>\n",
       "      <td>0.0</td>\n",
       "      <td>0.0</td>\n",
       "      <td>1.0</td>\n",
       "      <td>1.0</td>\n",
       "      <td>0.0</td>\n",
       "    </tr>\n",
       "    <tr>\n",
       "      <th>7</th>\n",
       "      <td>1.0</td>\n",
       "      <td>0.0</td>\n",
       "      <td>0.0</td>\n",
       "      <td>0.0</td>\n",
       "      <td>1.0</td>\n",
       "    </tr>\n",
       "    <tr>\n",
       "      <th>8</th>\n",
       "      <td>0.0</td>\n",
       "      <td>1.0</td>\n",
       "      <td>0.0</td>\n",
       "      <td>1.0</td>\n",
       "      <td>0.0</td>\n",
       "    </tr>\n",
       "    <tr>\n",
       "      <th>9</th>\n",
       "      <td>1.0</td>\n",
       "      <td>0.0</td>\n",
       "      <td>0.0</td>\n",
       "      <td>0.0</td>\n",
       "      <td>1.0</td>\n",
       "    </tr>\n",
       "  </tbody>\n",
       "</table>\n",
       "</div>"
      ],
      "text/plain": [
       "     0    1    2    3    4\n",
       "0  1.0  0.0  0.0  1.0  0.0\n",
       "1  0.0  0.0  1.0  0.0  1.0\n",
       "2  0.0  1.0  0.0  1.0  0.0\n",
       "3  0.0  0.0  1.0  1.0  0.0\n",
       "4  0.0  1.0  0.0  0.0  1.0\n",
       "5  1.0  0.0  0.0  0.0  1.0\n",
       "6  0.0  0.0  1.0  1.0  0.0\n",
       "7  1.0  0.0  0.0  0.0  1.0\n",
       "8  0.0  1.0  0.0  1.0  0.0\n",
       "9  1.0  0.0  0.0  0.0  1.0"
      ]
     },
     "execution_count": 63,
     "metadata": {},
     "output_type": "execute_result"
    }
   ],
   "source": [
    "ct = OneHotEncoder(sparse_output=False)\n",
    "x=pd.DataFrame(ct.fit_transform(df.iloc[:,[0,3]]))\n",
    "x.index=df.index\n",
    "x"
   ]
  },
  {
   "cell_type": "markdown",
   "metadata": {},
   "source": [
    "Applies column transformations, using One-Hot Encoding for specific columns and leaving others unchanged.\n",
    "\n"
   ]
  },
  {
   "cell_type": "code",
   "execution_count": 64,
   "metadata": {},
   "outputs": [
    {
     "name": "stdout",
     "output_type": "stream",
     "text": [
      "[[1.0 0.0 0.0 0.6732618473780672 0.6619698596295541 0.0]\n",
      " [0.0 0.0 1.0 -0.5844800653062344 -0.4261997726382066 1.0]\n",
      " [0.0 1.0 0.0 -0.36252561012665196 -0.1541573645712663 0.0]\n",
      " [0.0 0.0 1.0 0.22935293701890186 0.16322544484016374 0.0]\n",
      " [0.0 1.0 0.0 0.3773225738052904 -2.6025390371737283 1.0]\n",
      " [1.0 0.0 0.0 0.0073984818393194275 0.02720424080669361 1.0]\n",
      " [0.0 0.0 1.0 -2.5820701619224784 -0.24483816726024626 0.0]\n",
      " [1.0 0.0 0.0 0.9692011209508438 0.9793526690409846 1.0]\n",
      " [0.0 1.0 0.0 1.1171707577372323 1.160714274418945 0.0]\n",
      " [1.0 0.0 0.0 0.15536811862570757 0.435267852907104 1.0]]\n"
     ]
    }
   ],
   "source": [
    "from sklearn.compose import ColumnTransformer\n",
    "from sklearn.preprocessing import OneHotEncoder\n",
    "ct = ColumnTransformer(transformers=[('encoder', OneHotEncoder(), [0])], remainder='passthrough')\n",
    "df = np.array(ct.fit_transform(df))\n",
    "print(df)"
   ]
  }
 ],
 "metadata": {
  "kernelspec": {
   "display_name": "Python 3",
   "language": "python",
   "name": "python3"
  },
  "language_info": {
   "codemirror_mode": {
    "name": "ipython",
    "version": 3
   },
   "file_extension": ".py",
   "mimetype": "text/x-python",
   "name": "python",
   "nbconvert_exporter": "python",
   "pygments_lexer": "ipython3",
   "version": "3.12.4"
  }
 },
 "nbformat": 4,
 "nbformat_minor": 2
}
